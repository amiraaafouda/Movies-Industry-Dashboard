{
  "nbformat": 4,
  "nbformat_minor": 0,
  "metadata": {
    "colab": {
      "name": "movie_visualization.ipynb",
      "provenance": [],
      "collapsed_sections": []
    },
    "kernelspec": {
      "name": "python3",
      "display_name": "Python 3"
    },
    "language_info": {
      "name": "python"
    }
  },
  "cells": [
    {
      "cell_type": "code",
      "source": [
        "import pandas as pd\n",
        "import numpy as np\n",
        "import seaborn as sns\n",
        "import matplotlib.pyplot as plt\n",
        "\n",
        "def custom_pallete(custom_colors):\n",
        "    customPalette = sns.set_palette(sns.color_palette(custom_colors))\n",
        "    sns.palplot(sns.color_palette(custom_colors),size=0.8)\n",
        "    plt.tick_params(axis='both', labelsize=0, length = 0)\n",
        "\n",
        "tableau = [\"#B32636\",\"#DF8A39\",\"#F1F1F1\",\"#688B97\",\"#273C6B\"]\n",
        "custom_pallete(tableau)"
      ],
      "metadata": {
        "colab": {
          "base_uri": "https://localhost:8080/",
          "height": 74
        },
        "id": "Uu_mWeGvB1qq",
        "outputId": "e42ffdf7-355f-471e-bf95-ac711c3422e5"
      },
      "execution_count": null,
      "outputs": [
        {
          "output_type": "display_data",
          "data": {
            "text/plain": [
              "<Figure size 288x57.6 with 1 Axes>"
            ],
            "image/png": "[encoded data removed]"
          },
          "metadata": {
            "needs_background": "light"
          }
        }
      ]
    },
    {
      "cell_type": "code",
      "execution_count": null,
      "metadata": {
        "colab": {
          "base_uri": "https://localhost:8080/",
          "height": 363
        },
        "id": "19A0M5P9Bs9U",
        "outputId": "98f000f7-aff1-4ee1-84cf-284787f456c1"
      },
      "outputs": [
        {
          "output_type": "execute_result",
          "data": {
            "text/plain": [
              "   ID                              Title  Year  Age  IMDb Rotten Tomatoes  \\\n",
              "0   1                          Inception  2010  13+   8.8             87%   \n",
              "1   2                         The Matrix  1999  18+   8.7             87%   \n",
              "2   3             Avengers: Infinity War  2018  13+   8.5             84%   \n",
              "3   4                 Back to the Future  1985   7+   8.5             96%   \n",
              "4   5     The Good, the Bad and the Ugly  1966  18+   8.8             97%   \n",
              "5   6  Spider-Man: Into the Spider-Verse  2018   7+   8.4             97%   \n",
              "6   7                        The Pianist  2002  18+   8.5             95%   \n",
              "7   8                   Django Unchained  2012  18+   8.4             87%   \n",
              "8   9            Raiders of the Lost Ark  1981   7+   8.4             95%   \n",
              "9  10               Inglourious Basterds  2009  18+   8.3             89%   \n",
              "\n",
              "   Netflix  Hulu  Prime Video  Disney+  Type  \n",
              "0        1     0            0        0     0  \n",
              "1        1     0            0        0     0  \n",
              "2        1     0            0        0     0  \n",
              "3        1     0            0        0     0  \n",
              "4        1     0            1        0     0  \n",
              "5        1     0            0        0     0  \n",
              "6        1     0            1        0     0  \n",
              "7        1     0            0        0     0  \n",
              "8        1     0            0        0     0  \n",
              "9        1     0            0        0     0  "
            ],
            "text/html": [
              "\n",
              "  <div id=\"df-c58bdbb5-e5da-4909-a9fb-357171b323d3\">\n",
              "    <div class=\"colab-df-container\">\n",
              "      <div>\n",
              "<style scoped>\n",
              "    .dataframe tbody tr th:only-of-type {\n",
              "        vertical-align: middle;\n",
              "    }\n",
              "\n",
              "    .dataframe tbody tr th {\n",
              "        vertical-align: top;\n",
              "    }\n",
              "\n",
              "    .dataframe thead th {\n",
              "        text-align: right;\n",
              "    }\n",
              "</style>\n",
              "<table border=\"1\" class=\"dataframe\">\n",
              "  <thead>\n",
              "    <tr style=\"text-align: right;\">\n",
              "      <th></th>\n",
              "      <th>ID</th>\n",
              "      <th>Title</th>\n",
              "      <th>Year</th>\n",
              "      <th>Age</th>\n",
              "      <th>IMDb</th>\n",
              "      <th>Rotten Tomatoes</th>\n",
              "      <th>Netflix</th>\n",
              "      <th>Hulu</th>\n",
              "      <th>Prime Video</th>\n",
              "      <th>Disney+</th>\n",
              "      <th>Type</th>\n",
              "    </tr>\n",
              "  </thead>\n",
              "  <tbody>\n",
              "    <tr>\n",
              "      <th>0</th>\n",
              "      <td>1</td>\n",
              "      <td>Inception</td>\n",
              "      <td>2010</td>\n",
              "      <td>13+</td>\n",
              "      <td>8.8</td>\n",
              "      <td>87%</td>\n",
              "      <td>1</td>\n",
              "      <td>0</td>\n",
              "      <td>0</td>\n",
              "      <td>0</td>\n",
              "      <td>0</td>\n",
              "    </tr>\n",
              "    <tr>\n",
              "      <th>1</th>\n",
              "      <td>2</td>\n",
              "      <td>The Matrix</td>\n",
              "      <td>1999</td>\n",
              "      <td>18+</td>\n",
              "      <td>8.7</td>\n",
              "      <td>87%</td>\n",
              "      <td>1</td>\n",
              "      <td>0</td>\n",
              "      <td>0</td>\n",
              "      <td>0</td>\n",
              "      <td>0</td>\n",
              "    </tr>\n",
              "    <tr>\n",
              "      <th>2</th>\n",
              "      <td>3</td>\n",
              "      <td>Avengers: Infinity War</td>\n",
              "      <td>2018</td>\n",
              "      <td>13+</td>\n",
              "      <td>8.5</td>\n",
              "      <td>84%</td>\n",
              "      <td>1</td>\n",
              "      <td>0</td>\n",
              "      <td>0</td>\n",
              "      <td>0</td>\n",
              "      <td>0</td>\n",
              "    </tr>\n",
              "    <tr>\n",
              "      <th>3</th>\n",
              "      <td>4</td>\n",
              "      <td>Back to the Future</td>\n",
              "      <td>1985</td>\n",
              "      <td>7+</td>\n",
              "      <td>8.5</td>\n",
              "      <td>96%</td>\n",
              "      <td>1</td>\n",
              "      <td>0</td>\n",
              "      <td>0</td>\n",
              "      <td>0</td>\n",
              "      <td>0</td>\n",
              "    </tr>\n",
              "    <tr>\n",
              "      <th>4</th>\n",
              "      <td>5</td>\n",
              "      <td>The Good, the Bad and the Ugly</td>\n",
              "      <td>1966</td>\n",
              "      <td>18+</td>\n",
              "      <td>8.8</td>\n",
              "      <td>97%</td>\n",
              "      <td>1</td>\n",
              "      <td>0</td>\n",
              "      <td>1</td>\n",
              "      <td>0</td>\n",
              "      <td>0</td>\n",
              "    </tr>\n",
              "    <tr>\n",
              "      <th>5</th>\n",
              "      <td>6</td>\n",
              "      <td>Spider-Man: Into the Spider-Verse</td>\n",
              "      <td>2018</td>\n",
              "      <td>7+</td>\n",
              "      <td>8.4</td>\n",
              "      <td>97%</td>\n",
              "      <td>1</td>\n",
              "      <td>0</td>\n",
              "      <td>0</td>\n",
              "      <td>0</td>\n",
              "      <td>0</td>\n",
              "    </tr>\n",
              "    <tr>\n",
              "      <th>6</th>\n",
              "      <td>7</td>\n",
              "      <td>The Pianist</td>\n",
              "      <td>2002</td>\n",
              "      <td>18+</td>\n",
              "      <td>8.5</td>\n",
              "      <td>95%</td>\n",
              "      <td>1</td>\n",
              "      <td>0</td>\n",
              "      <td>1</td>\n",
              "      <td>0</td>\n",
              "      <td>0</td>\n",
              "    </tr>\n",
              "    <tr>\n",
              "      <th>7</th>\n",
              "      <td>8</td>\n",
              "      <td>Django Unchained</td>\n",
              "      <td>2012</td>\n",
              "      <td>18+</td>\n",
              "      <td>8.4</td>\n",
              "      <td>87%</td>\n",
              "      <td>1</td>\n",
              "      <td>0</td>\n",
              "      <td>0</td>\n",
              "      <td>0</td>\n",
              "      <td>0</td>\n",
              "    </tr>\n",
              "    <tr>\n",
              "      <th>8</th>\n",
              "      <td>9</td>\n",
              "      <td>Raiders of the Lost Ark</td>\n",
              "      <td>1981</td>\n",
              "      <td>7+</td>\n",
              "      <td>8.4</td>\n",
              "      <td>95%</td>\n",
              "      <td>1</td>\n",
              "      <td>0</td>\n",
              "      <td>0</td>\n",
              "      <td>0</td>\n",
              "      <td>0</td>\n",
              "    </tr>\n",
              "    <tr>\n",
              "      <th>9</th>\n",
              "      <td>10</td>\n",
              "      <td>Inglourious Basterds</td>\n",
              "      <td>2009</td>\n",
              "      <td>18+</td>\n",
              "      <td>8.3</td>\n",
              "      <td>89%</td>\n",
              "      <td>1</td>\n",
              "      <td>0</td>\n",
              "      <td>0</td>\n",
              "      <td>0</td>\n",
              "      <td>0</td>\n",
              "    </tr>\n",
              "  </tbody>\n",
              "</table>\n",
              "</div>\n",
              "      <button class=\"colab-df-convert\" onclick=\"convertToInteractive('df-c58bdbb5-e5da-4909-a9fb-357171b323d3')\"\n",
              "              title=\"Convert this dataframe to an interactive table.\"\n",
              "              style=\"display:none;\">\n",
              "        \n",
              "  <svg xmlns=\"http://www.w3.org/2000/svg\" height=\"24px\"viewBox=\"0 0 24 24\"\n",
              "       width=\"24px\">\n",
              "    <path d=\"M0 0h24v24H0V0z\" fill=\"none\"/>\n",
              "    <path d=\"M18.56 5.44l.94 2.06.94-2.06 2.06-.94-2.06-.94-.94-2.06-.94 2.06-2.06.94zm-11 1L8.5 8.5l.94-2.06 2.06-.94-2.06-.94L8.5 2.5l-.94 2.06-2.06.94zm10 10l.94 2.06.94-2.06 2.06-.94-2.06-.94-.94-2.06-.94 2.06-2.06.94z\"/><path d=\"M17.41 7.96l-1.37-1.37c-.4-.4-.92-.59-1.43-.59-.52 0-1.04.2-1.43.59L10.3 9.45l-7.72 7.72c-.78.78-.78 2.05 0 2.83L4 21.41c.39.39.9.59 1.41.59.51 0 1.02-.2 1.41-.59l7.78-7.78 2.81-2.81c.8-.78.8-2.07 0-2.86zM5.41 20L4 18.59l7.72-7.72 1.47 1.35L5.41 20z\"/>\n",
              "  </svg>\n",
              "      </button>\n",
              "      \n",
              "  <style>\n",
              "    .colab-df-container {\n",
              "      display:flex;\n",
              "      flex-wrap:wrap;\n",
              "      gap: 12px;\n",
              "    }\n",
              "\n",
              "    .colab-df-convert {\n",
              "      background-color: #E8F0FE;\n",
              "      border: none;\n",
              "      border-radius: 50%;\n",
              "      cursor: pointer;\n",
              "      display: none;\n",
              "      fill: #1967D2;\n",
              "      height: 32px;\n",
              "      padding: 0 0 0 0;\n",
              "      width: 32px;\n",
              "    }\n",
              "\n",
              "    .colab-df-convert:hover {\n",
              "      background-color: #E2EBFA;\n",
              "      box-shadow: 0px 1px 2px rgba(60, 64, 67, 0.3), 0px 1px 3px 1px rgba(60, 64, 67, 0.15);\n",
              "      fill: #174EA6;\n",
              "    }\n",
              "\n",
              "    [theme=dark] .colab-df-convert {\n",
              "      background-color: #3B4455;\n",
              "      fill: #D2E3FC;\n",
              "    }\n",
              "\n",
              "    [theme=dark] .colab-df-convert:hover {\n",
              "      background-color: #434B5C;\n",
              "      box-shadow: 0px 1px 3px 1px rgba(0, 0, 0, 0.15);\n",
              "      filter: drop-shadow(0px 1px 2px rgba(0, 0, 0, 0.3));\n",
              "      fill: #FFFFFF;\n",
              "    }\n",
              "  </style>\n",
              "\n",
              "      <script>\n",
              "        const buttonEl =\n",
              "          document.querySelector('#df-c58bdbb5-e5da-4909-a9fb-357171b323d3 button.colab-df-convert');\n",
              "        buttonEl.style.display =\n",
              "          google.colab.kernel.accessAllowed ? 'block' : 'none';\n",
              "\n",
              "        async function convertToInteractive(key) {\n",
              "          const element = document.querySelector('#df-c58bdbb5-e5da-4909-a9fb-357171b323d3');\n",
              "          const dataTable =\n",
              "            await google.colab.kernel.invokeFunction('convertToInteractive',\n",
              "                                                     [key], {});\n",
              "          if (!dataTable) return;\n",
              "\n",
              "          const docLinkHtml = 'Like what you see? Visit the ' +\n",
              "            '<a target=\"_blank\" href=https://colab.research.google.com/notebooks/data_table.ipynb>data table notebook</a>'\n",
              "            + ' to learn more about interactive tables.';\n",
              "          element.innerHTML = '';\n",
              "          dataTable['output_type'] = 'display_data';\n",
              "          await google.colab.output.renderOutput(dataTable, element);\n",
              "          const docLink = document.createElement('div');\n",
              "          docLink.innerHTML = docLinkHtml;\n",
              "          element.appendChild(docLink);\n",
              "        }\n",
              "      </script>\n",
              "    </div>\n",
              "  </div>\n",
              "  "
            ]
          },
          "metadata": {},
          "execution_count": 2
        }
      ],
      "source": [
        "df = pd.read_csv(\"/content/MoviesOnStreamingPlatforms_updated.csv\")\n",
        "df = df.iloc[:,1:12]\n",
        "df = df.head(10)\n",
        "df"
      ]
    },
    {
      "cell_type": "code",
      "source": [
        "!pip install IMDbPY\n",
        "\n",
        "from imdb import IMDb\n",
        "\n",
        "ia = IMDb()"
      ],
      "metadata": {
        "colab": {
          "base_uri": "https://localhost:8080/"
        },
        "id": "btIFYSXAB12w",
        "outputId": "91c1b51f-0bca-4e79-b946-e45e75c6554a"
      },
      "execution_count": null,
      "outputs": [
        {
          "output_type": "stream",
          "name": "stdout",
          "text": [
            "Collecting IMDbPY\n",
            "  Downloading IMDbPY-2021.4.18-py3-none-any.whl (298 kB)\n",
            "\u001b[?25l\r\u001b[K     |█                               | 10 kB 26.8 MB/s eta 0:00:01\r\u001b[K     |██▏                             | 20 kB 30.4 MB/s eta 0:00:01\r\u001b[K     |███▎                            | 30 kB 18.3 MB/s eta 0:00:01\r\u001b[K     |████▍                           | 40 kB 12.5 MB/s eta 0:00:01\r\u001b[K     |█████▌                          | 51 kB 7.7 MB/s eta 0:00:01\r\u001b[K     |██████▋                         | 61 kB 9.0 MB/s eta 0:00:01\r\u001b[K     |███████▊                        | 71 kB 8.8 MB/s eta 0:00:01\r\u001b[K     |████████▉                       | 81 kB 8.4 MB/s eta 0:00:01\r\u001b[K     |█████████▉                      | 92 kB 9.3 MB/s eta 0:00:01\r\u001b[K     |███████████                     | 102 kB 8.8 MB/s eta 0:00:01\r\u001b[K     |████████████                    | 112 kB 8.8 MB/s eta 0:00:01\r\u001b[K     |█████████████▏                  | 122 kB 8.8 MB/s eta 0:00:01\r\u001b[K     |██████████████▎                 | 133 kB 8.8 MB/s eta 0:00:01\r\u001b[K     |███████████████▍                | 143 kB 8.8 MB/s eta 0:00:01\r\u001b[K     |████████████████▌               | 153 kB 8.8 MB/s eta 0:00:01\r\u001b[K     |█████████████████▋              | 163 kB 8.8 MB/s eta 0:00:01\r\u001b[K     |██████████████████▋             | 174 kB 8.8 MB/s eta 0:00:01\r\u001b[K     |███████████████████▊            | 184 kB 8.8 MB/s eta 0:00:01\r\u001b[K     |████████████████████▉           | 194 kB 8.8 MB/s eta 0:00:01\r\u001b[K     |██████████████████████          | 204 kB 8.8 MB/s eta 0:00:01\r\u001b[K     |███████████████████████         | 215 kB 8.8 MB/s eta 0:00:01\r\u001b[K     |████████████████████████▏       | 225 kB 8.8 MB/s eta 0:00:01\r\u001b[K     |█████████████████████████▎      | 235 kB 8.8 MB/s eta 0:00:01\r\u001b[K     |██████████████████████████▍     | 245 kB 8.8 MB/s eta 0:00:01\r\u001b[K     |███████████████████████████▍    | 256 kB 8.8 MB/s eta 0:00:01\r\u001b[K     |████████████████████████████▌   | 266 kB 8.8 MB/s eta 0:00:01\r\u001b[K     |█████████████████████████████▋  | 276 kB 8.8 MB/s eta 0:00:01\r\u001b[K     |██████████████████████████████▊ | 286 kB 8.8 MB/s eta 0:00:01\r\u001b[K     |███████████████████████████████▉| 296 kB 8.8 MB/s eta 0:00:01\r\u001b[K     |████████████████████████████████| 298 kB 8.8 MB/s \n",
            "\u001b[?25hRequirement already satisfied: SQLAlchemy in /usr/local/lib/python3.7/dist-packages (from IMDbPY) (1.4.35)\n",
            "Requirement already satisfied: lxml in /usr/local/lib/python3.7/dist-packages (from IMDbPY) (4.2.6)\n",
            "Requirement already satisfied: greenlet!=0.4.17 in /usr/local/lib/python3.7/dist-packages (from SQLAlchemy->IMDbPY) (1.1.2)\n",
            "Requirement already satisfied: importlib-metadata in /usr/local/lib/python3.7/dist-packages (from SQLAlchemy->IMDbPY) (4.11.3)\n",
            "Requirement already satisfied: typing-extensions>=3.6.4 in /usr/local/lib/python3.7/dist-packages (from importlib-metadata->SQLAlchemy->IMDbPY) (4.2.0)\n",
            "Requirement already satisfied: zipp>=0.5 in /usr/local/lib/python3.7/dist-packages (from importlib-metadata->SQLAlchemy->IMDbPY) (3.8.0)\n",
            "Installing collected packages: IMDbPY\n",
            "Successfully installed IMDbPY-2021.4.18\n"
          ]
        }
      ]
    },
    {
      "cell_type": "code",
      "source": [
        "mid = ia.search_movie(\"Inception\")\n",
        "mid[0]"
      ],
      "metadata": {
        "colab": {
          "base_uri": "https://localhost:8080/"
        },
        "id": "lbrF4kAFB2BU",
        "outputId": "ebd1bb90-e407-4142-e530-b20cdf8fe373"
      },
      "execution_count": null,
      "outputs": [
        {
          "output_type": "execute_result",
          "data": {
            "text/plain": [
              "<Movie id:1375666[http] title:_Inception (2010)_>"
            ]
          },
          "metadata": {},
          "execution_count": 4
        }
      ]
    },
    {
      "cell_type": "code",
      "source": [
        "movie = ia.get_movie('1375666')"
      ],
      "metadata": {
        "id": "Ru5kdNlRB2KJ"
      },
      "execution_count": null,
      "outputs": []
    },
    {
      "cell_type": "code",
      "source": [
        "print('Directors:')\n",
        "for director in movie['directors']:\n",
        "    print(director['name'])"
      ],
      "metadata": {
        "colab": {
          "base_uri": "https://localhost:8080/"
        },
        "id": "LoHsKVGfB2S9",
        "outputId": "0c3771bb-a13f-4dbb-d614-caad1c84822b"
      },
      "execution_count": null,
      "outputs": [
        {
          "output_type": "stream",
          "name": "stdout",
          "text": [
            "Directors:\n",
            "Christopher Nolan\n"
          ]
        }
      ]
    },
    {
      "cell_type": "code",
      "source": [
        "print('Genres:')\n",
        "for genre in movie['genres']:\n",
        "    print(genre)"
      ],
      "metadata": {
        "colab": {
          "base_uri": "https://localhost:8080/"
        },
        "id": "HClBKsCyB2cD",
        "outputId": "a4e1a528-b17a-4fe0-82be-b86d6b43cef3"
      },
      "execution_count": null,
      "outputs": [
        {
          "output_type": "stream",
          "name": "stdout",
          "text": [
            "Genres:\n",
            "Action\n",
            "Adventure\n",
            "Sci-Fi\n",
            "Thriller\n"
          ]
        }
      ]
    },
    {
      "cell_type": "code",
      "source": [
        "print('Countries:')\n",
        "for cont in movie['countries']:\n",
        "    print(cont)"
      ],
      "metadata": {
        "colab": {
          "base_uri": "https://localhost:8080/"
        },
        "id": "O7n79_FwB2jv",
        "outputId": "3c809a91-6230-484c-a50f-8216f3a2de63"
      },
      "execution_count": null,
      "outputs": [
        {
          "output_type": "stream",
          "name": "stdout",
          "text": [
            "Countries:\n",
            "United States\n",
            "United Kingdom\n"
          ]
        }
      ]
    },
    {
      "cell_type": "code",
      "source": [
        "print('Languages:')\n",
        "for lang in movie['languages']:\n",
        "    print(lang)"
      ],
      "metadata": {
        "colab": {
          "base_uri": "https://localhost:8080/"
        },
        "id": "PjrU88I4B2rc",
        "outputId": "be992df4-0ab6-4242-8f02-c6dc113759ff"
      },
      "execution_count": null,
      "outputs": [
        {
          "output_type": "stream",
          "name": "stdout",
          "text": [
            "Languages:\n",
            "English\n",
            "Japanese\n",
            "French\n"
          ]
        }
      ]
    },
    {
      "cell_type": "code",
      "source": [
        "print('Runtime:')\n",
        "for run in movie['runtime']:\n",
        "    print(run)"
      ],
      "metadata": {
        "colab": {
          "base_uri": "https://localhost:8080/"
        },
        "id": "Ix9ioRnqB2zH",
        "outputId": "168dc342-d55a-40b0-99ef-a3244c6585ca"
      },
      "execution_count": null,
      "outputs": [
        {
          "output_type": "stream",
          "name": "stdout",
          "text": [
            "Runtime:\n",
            "148\n"
          ]
        }
      ]
    },
    {
      "cell_type": "code",
      "source": [
        "i=0\n",
        "count_id=0\n",
        "count_d=0\n",
        "count_g=0\n",
        "count_co=0\n",
        "count_l=0\n",
        "count_r=0\n",
        "\n",
        "m_director=[]\n",
        "m_genre=[]\n",
        "m_country=[]\n",
        "m_language=[]\n",
        "m_runtime=[]\n",
        "\n",
        "while(i<len(df.index)):\n",
        "    val_type = df['Type'].values[i]\n",
        "    if(val_type==0):\n",
        "        val_movie = df['Title'].values[i]\n",
        "        movies = ia.search_movie(val_movie)\n",
        "        if(len(movies)!=0):\n",
        "            movid = movies[0].movieID\n",
        "\n",
        "            movie = ia.get_movie(movid)\n",
        "            print(movie)\n",
        "\n",
        "            movie_directors=\"\"\n",
        "            movie_genres=\"\"\n",
        "            movie_country=\"\"\n",
        "            movie_language=\"\"\n",
        "            movie_runtime=\"\"\n",
        "            c1=0\n",
        "            c2=0\n",
        "            c4=0\n",
        "            c5=0\n",
        "            c6=0\n",
        "            movid=int(movid)\n",
        "            if(movid>0):\n",
        "                count_id+=1;\n",
        "                print(count_id)\n",
        "\n",
        "                try:\n",
        "                    for director in movie['directors']:\n",
        "                        if(c1==0):\n",
        "                            count_d+=1\n",
        "                            movie_directors =director['name']\n",
        "\n",
        "                        else:\n",
        "                            movie_directors = movie_directors+\",\"+ director['name']\n",
        "\n",
        "                        c1+=1\n",
        "                    m_director.append(movie_directors)\n",
        "                except:\n",
        "                    m_director.append(\"NA\")\n",
        "\n",
        "                try:\n",
        "                    for genre in movie['genres']:\n",
        "                        if(c2==0):\n",
        "                            count_g+=1\n",
        "                            movie_genres = genre\n",
        "\n",
        "                        else:\n",
        "                            movie_genres = movie_genres+\",\" +genre\n",
        "\n",
        "                        c2+=1\n",
        "                    m_genre.append(movie_genres)\n",
        "                except:\n",
        "                    m_genre.append(\"NA\")\n",
        "\n",
        "                try:\n",
        "                    for countries in movie['countries']:\n",
        "                        if(c4==0):\n",
        "                            count_co+=1\n",
        "                            movie_country = countries\n",
        "\n",
        "                        else:\n",
        "                            movie_country = movie_country+\",\" +countries\n",
        "\n",
        "                        c4+=1\n",
        "                    m_country.append(movie_country)\n",
        "                except:\n",
        "                    m_country.append(\"NA\")\n",
        "\n",
        "                try:\n",
        "                    for languages in movie['languages']:\n",
        "                        if(c5==0):\n",
        "                            count_l+=1\n",
        "                            movie_language = languages\n",
        "\n",
        "                        else:\n",
        "                            movie_language = movie_language+\",\" +languages\n",
        "\n",
        "                        c5+=1\n",
        "                    m_language.append(movie_language)\n",
        "                except:\n",
        "                    m_language.append(\"NA\")\n",
        "\n",
        "                try:\n",
        "                    for runtime in movie['runtimes']:\n",
        "                        if(c6==0):\n",
        "                            count_r+=1\n",
        "                            movie_runtime = runtime\n",
        "\n",
        "                        else:\n",
        "                            movie_runtime = movie_runtime+\",\" +runtime\n",
        "\n",
        "                        c6+=1\n",
        "                    m_runtime.append(movie_runtime)\n",
        "                except:\n",
        "                    m_runtime.append(\"NA\")\n",
        "      \n",
        "            else:\n",
        "                pass\n",
        "        else:\n",
        "            m_director.append(\"NA\")\n",
        "            m_genre.append(\"NA\")\n",
        "            m_country.append(\"NA\")\n",
        "            m_language.append(\"NA\")\n",
        "            m_runtime.append(\"NA\")\n",
        "    else:\n",
        "        pass\n",
        "    i=i+1"
      ],
      "metadata": {
        "colab": {
          "base_uri": "https://localhost:8080/"
        },
        "id": "S2IkP0euB27n",
        "outputId": "39ace395-f329-46ce-f3fb-878a1c5c76d7"
      },
      "execution_count": null,
      "outputs": [
        {
          "output_type": "stream",
          "name": "stdout",
          "text": [
            "Inception\n",
            "1\n",
            "The Matrix\n",
            "2\n",
            "Avengers: Infinity War\n",
            "3\n",
            "Back to the Future\n",
            "4\n",
            "The Good, the Bad and the Ugly\n",
            "5\n",
            "Spider-Man: Into the Spider-Verse\n",
            "6\n",
            "The Pianist\n",
            "7\n",
            "Django Unchained\n",
            "8\n",
            "Indiana Jones and the Raiders of the Lost Ark\n",
            "9\n",
            "Inglourious Basterds\n",
            "10\n"
          ]
        }
      ]
    },
    {
      "cell_type": "code",
      "source": [
        "df['Directors'] = m_director\n",
        "df['Genres'] = m_genre\n",
        "df['Country'] = m_country\n",
        "df['Language'] = m_language\n",
        "df['Runtime'] = m_runtime\n",
        "\n",
        "df"
      ],
      "metadata": {
        "colab": {
          "base_uri": "https://localhost:8080/",
          "height": 739
        },
        "id": "aG1kXPalB3C7",
        "outputId": "f446e827-0f46-4329-bb15-6abce5f7ce11"
      },
      "execution_count": null,
      "outputs": [
        {
          "output_type": "execute_result",
          "data": {
            "text/plain": [
              "   ID                              Title  Year  Age  IMDb Rotten Tomatoes  \\\n",
              "0   1                          Inception  2010  13+   8.8             87%   \n",
              "1   2                         The Matrix  1999  18+   8.7             87%   \n",
              "2   3             Avengers: Infinity War  2018  13+   8.5             84%   \n",
              "3   4                 Back to the Future  1985   7+   8.5             96%   \n",
              "4   5     The Good, the Bad and the Ugly  1966  18+   8.8             97%   \n",
              "5   6  Spider-Man: Into the Spider-Verse  2018   7+   8.4             97%   \n",
              "6   7                        The Pianist  2002  18+   8.5             95%   \n",
              "7   8                   Django Unchained  2012  18+   8.4             87%   \n",
              "8   9            Raiders of the Lost Ark  1981   7+   8.4             95%   \n",
              "9  10               Inglourious Basterds  2009  18+   8.3             89%   \n",
              "\n",
              "   Netflix  Hulu  Prime Video  Disney+  Type  \\\n",
              "0        1     0            0        0     0   \n",
              "1        1     0            0        0     0   \n",
              "2        1     0            0        0     0   \n",
              "3        1     0            0        0     0   \n",
              "4        1     0            1        0     0   \n",
              "5        1     0            0        0     0   \n",
              "6        1     0            1        0     0   \n",
              "7        1     0            0        0     0   \n",
              "8        1     0            0        0     0   \n",
              "9        1     0            0        0     0   \n",
              "\n",
              "                                     Directors  \\\n",
              "0                            Christopher Nolan   \n",
              "1               Lana Wachowski,Lilly Wachowski   \n",
              "2                      Anthony Russo,Joe Russo   \n",
              "3                              Robert Zemeckis   \n",
              "4                                 Sergio Leone   \n",
              "5  Bob Persichetti,Peter Ramsey,Rodney Rothman   \n",
              "6                               Roman Polanski   \n",
              "7                            Quentin Tarantino   \n",
              "8                             Steven Spielberg   \n",
              "9                            Quentin Tarantino   \n",
              "\n",
              "                                              Genres  \\\n",
              "0                   Action,Adventure,Sci-Fi,Thriller   \n",
              "1                                      Action,Sci-Fi   \n",
              "2                            Action,Adventure,Sci-Fi   \n",
              "3                            Adventure,Comedy,Sci-Fi   \n",
              "4                                  Adventure,Western   \n",
              "5  Animation,Action,Adventure,Comedy,Family,Fanta...   \n",
              "6                          Biography,Drama,Music,War   \n",
              "7                                      Drama,Western   \n",
              "8                                   Action,Adventure   \n",
              "9                                Adventure,Drama,War   \n",
              "\n",
              "                                Country  \\\n",
              "0          United States,United Kingdom   \n",
              "1               United States,Australia   \n",
              "2                         United States   \n",
              "3                         United States   \n",
              "4              Italy,Spain,West Germany   \n",
              "5                         United States   \n",
              "6  France,Poland,Germany,United Kingdom   \n",
              "7                         United States   \n",
              "8                         United States   \n",
              "9                 Germany,United States   \n",
              "\n",
              "                                      Language Runtime  \n",
              "0                      English,Japanese,French     148  \n",
              "1                                      English     136  \n",
              "2                                      English     149  \n",
              "3                                      English     116  \n",
              "4                              Italian,English     161  \n",
              "5                              English,Spanish     117  \n",
              "6                       English,German,Russian     150  \n",
              "7                English,German,French,Italian     165  \n",
              "8  English,German,Hebrew,Spanish,Arabic,Nepali     115  \n",
              "9                English,German,French,Italian     153  "
            ],
            "text/html": [
              "\n",
              "  <div id=\"df-d301bb40-1cda-4d42-83ed-dda5bdb5d2f0\">\n",
              "    <div class=\"colab-df-container\">\n",
              "      <div>\n",
              "<style scoped>\n",
              "    .dataframe tbody tr th:only-of-type {\n",
              "        vertical-align: middle;\n",
              "    }\n",
              "\n",
              "    .dataframe tbody tr th {\n",
              "        vertical-align: top;\n",
              "    }\n",
              "\n",
              "    .dataframe thead th {\n",
              "        text-align: right;\n",
              "    }\n",
              "</style>\n",
              "<table border=\"1\" class=\"dataframe\">\n",
              "  <thead>\n",
              "    <tr style=\"text-align: right;\">\n",
              "      <th></th>\n",
              "      <th>ID</th>\n",
              "      <th>Title</th>\n",
              "      <th>Year</th>\n",
              "      <th>Age</th>\n",
              "      <th>IMDb</th>\n",
              "      <th>Rotten Tomatoes</th>\n",
              "      <th>Netflix</th>\n",
              "      <th>Hulu</th>\n",
              "      <th>Prime Video</th>\n",
              "      <th>Disney+</th>\n",
              "      <th>Type</th>\n",
              "      <th>Directors</th>\n",
              "      <th>Genres</th>\n",
              "      <th>Country</th>\n",
              "      <th>Language</th>\n",
              "      <th>Runtime</th>\n",
              "    </tr>\n",
              "  </thead>\n",
              "  <tbody>\n",
              "    <tr>\n",
              "      <th>0</th>\n",
              "      <td>1</td>\n",
              "      <td>Inception</td>\n",
              "      <td>2010</td>\n",
              "      <td>13+</td>\n",
              "      <td>8.8</td>\n",
              "      <td>87%</td>\n",
              "      <td>1</td>\n",
              "      <td>0</td>\n",
              "      <td>0</td>\n",
              "      <td>0</td>\n",
              "      <td>0</td>\n",
              "      <td>Christopher Nolan</td>\n",
              "      <td>Action,Adventure,Sci-Fi,Thriller</td>\n",
              "      <td>United States,United Kingdom</td>\n",
              "      <td>English,Japanese,French</td>\n",
              "      <td>148</td>\n",
              "    </tr>\n",
              "    <tr>\n",
              "      <th>1</th>\n",
              "      <td>2</td>\n",
              "      <td>The Matrix</td>\n",
              "      <td>1999</td>\n",
              "      <td>18+</td>\n",
              "      <td>8.7</td>\n",
              "      <td>87%</td>\n",
              "      <td>1</td>\n",
              "      <td>0</td>\n",
              "      <td>0</td>\n",
              "      <td>0</td>\n",
              "      <td>0</td>\n",
              "      <td>Lana Wachowski,Lilly Wachowski</td>\n",
              "      <td>Action,Sci-Fi</td>\n",
              "      <td>United States,Australia</td>\n",
              "      <td>English</td>\n",
              "      <td>136</td>\n",
              "    </tr>\n",
              "    <tr>\n",
              "      <th>2</th>\n",
              "      <td>3</td>\n",
              "      <td>Avengers: Infinity War</td>\n",
              "      <td>2018</td>\n",
              "      <td>13+</td>\n",
              "      <td>8.5</td>\n",
              "      <td>84%</td>\n",
              "      <td>1</td>\n",
              "      <td>0</td>\n",
              "      <td>0</td>\n",
              "      <td>0</td>\n",
              "      <td>0</td>\n",
              "      <td>Anthony Russo,Joe Russo</td>\n",
              "      <td>Action,Adventure,Sci-Fi</td>\n",
              "      <td>United States</td>\n",
              "      <td>English</td>\n",
              "      <td>149</td>\n",
              "    </tr>\n",
              "    <tr>\n",
              "      <th>3</th>\n",
              "      <td>4</td>\n",
              "      <td>Back to the Future</td>\n",
              "      <td>1985</td>\n",
              "      <td>7+</td>\n",
              "      <td>8.5</td>\n",
              "      <td>96%</td>\n",
              "      <td>1</td>\n",
              "      <td>0</td>\n",
              "      <td>0</td>\n",
              "      <td>0</td>\n",
              "      <td>0</td>\n",
              "      <td>Robert Zemeckis</td>\n",
              "      <td>Adventure,Comedy,Sci-Fi</td>\n",
              "      <td>United States</td>\n",
              "      <td>English</td>\n",
              "      <td>116</td>\n",
              "    </tr>\n",
              "    <tr>\n",
              "      <th>4</th>\n",
              "      <td>5</td>\n",
              "      <td>The Good, the Bad and the Ugly</td>\n",
              "      <td>1966</td>\n",
              "      <td>18+</td>\n",
              "      <td>8.8</td>\n",
              "      <td>97%</td>\n",
              "      <td>1</td>\n",
              "      <td>0</td>\n",
              "      <td>1</td>\n",
              "      <td>0</td>\n",
              "      <td>0</td>\n",
              "      <td>Sergio Leone</td>\n",
              "      <td>Adventure,Western</td>\n",
              "      <td>Italy,Spain,West Germany</td>\n",
              "      <td>Italian,English</td>\n",
              "      <td>161</td>\n",
              "    </tr>\n",
              "    <tr>\n",
              "      <th>5</th>\n",
              "      <td>6</td>\n",
              "      <td>Spider-Man: Into the Spider-Verse</td>\n",
              "      <td>2018</td>\n",
              "      <td>7+</td>\n",
              "      <td>8.4</td>\n",
              "      <td>97%</td>\n",
              "      <td>1</td>\n",
              "      <td>0</td>\n",
              "      <td>0</td>\n",
              "      <td>0</td>\n",
              "      <td>0</td>\n",
              "      <td>Bob Persichetti,Peter Ramsey,Rodney Rothman</td>\n",
              "      <td>Animation,Action,Adventure,Comedy,Family,Fanta...</td>\n",
              "      <td>United States</td>\n",
              "      <td>English,Spanish</td>\n",
              "      <td>117</td>\n",
              "    </tr>\n",
              "    <tr>\n",
              "      <th>6</th>\n",
              "      <td>7</td>\n",
              "      <td>The Pianist</td>\n",
              "      <td>2002</td>\n",
              "      <td>18+</td>\n",
              "      <td>8.5</td>\n",
              "      <td>95%</td>\n",
              "      <td>1</td>\n",
              "      <td>0</td>\n",
              "      <td>1</td>\n",
              "      <td>0</td>\n",
              "      <td>0</td>\n",
              "      <td>Roman Polanski</td>\n",
              "      <td>Biography,Drama,Music,War</td>\n",
              "      <td>France,Poland,Germany,United Kingdom</td>\n",
              "      <td>English,German,Russian</td>\n",
              "      <td>150</td>\n",
              "    </tr>\n",
              "    <tr>\n",
              "      <th>7</th>\n",
              "      <td>8</td>\n",
              "      <td>Django Unchained</td>\n",
              "      <td>2012</td>\n",
              "      <td>18+</td>\n",
              "      <td>8.4</td>\n",
              "      <td>87%</td>\n",
              "      <td>1</td>\n",
              "      <td>0</td>\n",
              "      <td>0</td>\n",
              "      <td>0</td>\n",
              "      <td>0</td>\n",
              "      <td>Quentin Tarantino</td>\n",
              "      <td>Drama,Western</td>\n",
              "      <td>United States</td>\n",
              "      <td>English,German,French,Italian</td>\n",
              "      <td>165</td>\n",
              "    </tr>\n",
              "    <tr>\n",
              "      <th>8</th>\n",
              "      <td>9</td>\n",
              "      <td>Raiders of the Lost Ark</td>\n",
              "      <td>1981</td>\n",
              "      <td>7+</td>\n",
              "      <td>8.4</td>\n",
              "      <td>95%</td>\n",
              "      <td>1</td>\n",
              "      <td>0</td>\n",
              "      <td>0</td>\n",
              "      <td>0</td>\n",
              "      <td>0</td>\n",
              "      <td>Steven Spielberg</td>\n",
              "      <td>Action,Adventure</td>\n",
              "      <td>United States</td>\n",
              "      <td>English,German,Hebrew,Spanish,Arabic,Nepali</td>\n",
              "      <td>115</td>\n",
              "    </tr>\n",
              "    <tr>\n",
              "      <th>9</th>\n",
              "      <td>10</td>\n",
              "      <td>Inglourious Basterds</td>\n",
              "      <td>2009</td>\n",
              "      <td>18+</td>\n",
              "      <td>8.3</td>\n",
              "      <td>89%</td>\n",
              "      <td>1</td>\n",
              "      <td>0</td>\n",
              "      <td>0</td>\n",
              "      <td>0</td>\n",
              "      <td>0</td>\n",
              "      <td>Quentin Tarantino</td>\n",
              "      <td>Adventure,Drama,War</td>\n",
              "      <td>Germany,United States</td>\n",
              "      <td>English,German,French,Italian</td>\n",
              "      <td>153</td>\n",
              "    </tr>\n",
              "  </tbody>\n",
              "</table>\n",
              "</div>\n",
              "      <button class=\"colab-df-convert\" onclick=\"convertToInteractive('df-d301bb40-1cda-4d42-83ed-dda5bdb5d2f0')\"\n",
              "              title=\"Convert this dataframe to an interactive table.\"\n",
              "              style=\"display:none;\">\n",
              "        \n",
              "  <svg xmlns=\"http://www.w3.org/2000/svg\" height=\"24px\"viewBox=\"0 0 24 24\"\n",
              "       width=\"24px\">\n",
              "    <path d=\"M0 0h24v24H0V0z\" fill=\"none\"/>\n",
              "    <path d=\"M18.56 5.44l.94 2.06.94-2.06 2.06-.94-2.06-.94-.94-2.06-.94 2.06-2.06.94zm-11 1L8.5 8.5l.94-2.06 2.06-.94-2.06-.94L8.5 2.5l-.94 2.06-2.06.94zm10 10l.94 2.06.94-2.06 2.06-.94-2.06-.94-.94-2.06-.94 2.06-2.06.94z\"/><path d=\"M17.41 7.96l-1.37-1.37c-.4-.4-.92-.59-1.43-.59-.52 0-1.04.2-1.43.59L10.3 9.45l-7.72 7.72c-.78.78-.78 2.05 0 2.83L4 21.41c.39.39.9.59 1.41.59.51 0 1.02-.2 1.41-.59l7.78-7.78 2.81-2.81c.8-.78.8-2.07 0-2.86zM5.41 20L4 18.59l7.72-7.72 1.47 1.35L5.41 20z\"/>\n",
              "  </svg>\n",
              "      </button>\n",
              "      \n",
              "  <style>\n",
              "    .colab-df-container {\n",
              "      display:flex;\n",
              "      flex-wrap:wrap;\n",
              "      gap: 12px;\n",
              "    }\n",
              "\n",
              "    .colab-df-convert {\n",
              "      background-color: #E8F0FE;\n",
              "      border: none;\n",
              "      border-radius: 50%;\n",
              "      cursor: pointer;\n",
              "      display: none;\n",
              "      fill: #1967D2;\n",
              "      height: 32px;\n",
              "      padding: 0 0 0 0;\n",
              "      width: 32px;\n",
              "    }\n",
              "\n",
              "    .colab-df-convert:hover {\n",
              "      background-color: #E2EBFA;\n",
              "      box-shadow: 0px 1px 2px rgba(60, 64, 67, 0.3), 0px 1px 3px 1px rgba(60, 64, 67, 0.15);\n",
              "      fill: #174EA6;\n",
              "    }\n",
              "\n",
              "    [theme=dark] .colab-df-convert {\n",
              "      background-color: #3B4455;\n",
              "      fill: #D2E3FC;\n",
              "    }\n",
              "\n",
              "    [theme=dark] .colab-df-convert:hover {\n",
              "      background-color: #434B5C;\n",
              "      box-shadow: 0px 1px 3px 1px rgba(0, 0, 0, 0.15);\n",
              "      filter: drop-shadow(0px 1px 2px rgba(0, 0, 0, 0.3));\n",
              "      fill: #FFFFFF;\n",
              "    }\n",
              "  </style>\n",
              "\n",
              "      <script>\n",
              "        const buttonEl =\n",
              "          document.querySelector('#df-d301bb40-1cda-4d42-83ed-dda5bdb5d2f0 button.colab-df-convert');\n",
              "        buttonEl.style.display =\n",
              "          google.colab.kernel.accessAllowed ? 'block' : 'none';\n",
              "\n",
              "        async function convertToInteractive(key) {\n",
              "          const element = document.querySelector('#df-d301bb40-1cda-4d42-83ed-dda5bdb5d2f0');\n",
              "          const dataTable =\n",
              "            await google.colab.kernel.invokeFunction('convertToInteractive',\n",
              "                                                     [key], {});\n",
              "          if (!dataTable) return;\n",
              "\n",
              "          const docLinkHtml = 'Like what you see? Visit the ' +\n",
              "            '<a target=\"_blank\" href=https://colab.research.google.com/notebooks/data_table.ipynb>data table notebook</a>'\n",
              "            + ' to learn more about interactive tables.';\n",
              "          element.innerHTML = '';\n",
              "          dataTable['output_type'] = 'display_data';\n",
              "          await google.colab.output.renderOutput(dataTable, element);\n",
              "          const docLink = document.createElement('div');\n",
              "          docLink.innerHTML = docLinkHtml;\n",
              "          element.appendChild(docLink);\n",
              "        }\n",
              "      </script>\n",
              "    </div>\n",
              "  </div>\n",
              "  "
            ]
          },
          "metadata": {},
          "execution_count": 12
        }
      ]
    },
    {
      "cell_type": "code",
      "source": [
        "%%HTML\n",
        "<div class='tableauPlaceholder' id='viz1598629189115' style='position: relative'><noscript><a href='#'><img alt='Average IMDb rating of movies produced in countries ' src='https:&#47;&#47;public.tableau.com&#47;static&#47;images&#47;Mo&#47;Moviesavailableonstreamingplatforms&#47;AvgIMDbratings&#47;1_rss.png' style='border: none' /></a></noscript><object class='tableauViz'  style='display:none;'><param name='host_url' value='https%3A%2F%2Fpublic.tableau.com%2F' /> <param name='embed_code_version' value='3' /> <param name='path' value='views&#47;Moviesavailableonstreamingplatforms&#47;AvgIMDbratings?:language=en-GB&amp;:embed=y&amp;:display_count=y' /> <param name='toolbar' value='yes' /><param name='static_image' value='https:&#47;&#47;public.tableau.com&#47;static&#47;images&#47;Mo&#47;Moviesavailableonstreamingplatforms&#47;AvgIMDbratings&#47;1.png' /> <param name='animate_transition' value='yes' /><param name='display_static_image' value='yes' /><param name='display_spinner' value='yes' /><param name='display_overlay' value='yes' /><param name='display_count' value='yes' /><param name='language' value='en-GB' /></object></div>                <script type='text/javascript'>                    var divElement = document.getElementById('viz1598629189115');                    var vizElement = divElement.getElementsByTagName('object')[0];                    vizElement.style.width='100%';vizElement.style.height=(divElement.offsetWidth*0.75)+'px';                    var scriptElement = document.createElement('script');                    scriptElement.src = 'https://public.tableau.com/javascripts/api/viz_v1.js';                    vizElement.parentNode.insertBefore(scriptElement, vizElement);                </script>"
      ],
      "metadata": {
        "colab": {
          "base_uri": "https://localhost:8080/",
          "height": 900
        },
        "id": "xeqEqYpmB3La",
        "outputId": "6c31ff8a-4793-4f40-b677-e93710c913a6"
      },
      "execution_count": null,
      "outputs": [
        {
          "output_type": "display_data",
          "data": {
            "text/plain": [
              "<IPython.core.display.HTML object>"
            ],
            "text/html": [
              "<div class='tableauPlaceholder' id='viz1598629189115' style='position: relative'><noscript><a href='#'><img alt='Average IMDb rating of movies produced in countries ' src='https:&#47;&#47;public.tableau.com&#47;static&#47;images&#47;Mo&#47;Moviesavailableonstreamingplatforms&#47;AvgIMDbratings&#47;1_rss.png' style='border: none' /></a></noscript><object class='tableauViz'  style='display:none;'><param name='host_url' value='https%3A%2F%2Fpublic.tableau.com%2F' /> <param name='embed_code_version' value='3' /> <param name='path' value='views&#47;Moviesavailableonstreamingplatforms&#47;AvgIMDbratings?:language=en-GB&amp;:embed=y&amp;:display_count=y' /> <param name='toolbar' value='yes' /><param name='static_image' value='https:&#47;&#47;public.tableau.com&#47;static&#47;images&#47;Mo&#47;Moviesavailableonstreamingplatforms&#47;AvgIMDbratings&#47;1.png' /> <param name='animate_transition' value='yes' /><param name='display_static_image' value='yes' /><param name='display_spinner' value='yes' /><param name='display_overlay' value='yes' /><param name='display_count' value='yes' /><param name='language' value='en-GB' /></object></div>                <script type='text/javascript'>                    var divElement = document.getElementById('viz1598629189115');                    var vizElement = divElement.getElementsByTagName('object')[0];                    vizElement.style.width='100%';vizElement.style.height=(divElement.offsetWidth*0.75)+'px';                    var scriptElement = document.createElement('script');                    scriptElement.src = 'https://public.tableau.com/javascripts/api/viz_v1.js';                    vizElement.parentNode.insertBefore(scriptElement, vizElement);                </script>"
            ]
          },
          "metadata": {}
        }
      ]
    },
    {
      "cell_type": "code",
      "source": [
        "%%HTML\n",
        "<div class='tableauPlaceholder' id='viz1598629292160' style='position: relative'><noscript><a href='#'><img alt='Movies produced during a particular year vs streaming platform' src='https:&#47;&#47;public.tableau.com&#47;static&#47;images&#47;Mo&#47;Moviesavailableonstreamingplatforms&#47;MovieyearvsPlatform&#47;1_rss.png' style='border: none' /></a></noscript><object class='tableauViz'  style='display:none;'><param name='host_url' value='https%3A%2F%2Fpublic.tableau.com%2F' /> <param name='embed_code_version' value='3' /> <param name='site_root' value='' /><param name='name' value='Moviesavailableonstreamingplatforms&#47;MovieyearvsPlatform' /><param name='tabs' value='no' /><param name='toolbar' value='yes' /><param name='static_image' value='https:&#47;&#47;public.tableau.com&#47;static&#47;images&#47;Mo&#47;Moviesavailableonstreamingplatforms&#47;MovieyearvsPlatform&#47;1.png' /> <param name='animate_transition' value='yes' /><param name='display_static_image' value='yes' /><param name='display_spinner' value='yes' /><param name='display_overlay' value='yes' /><param name='display_count' value='yes' /><param name='language' value='en-GB' /></object></div>                <script type='text/javascript'>                    var divElement = document.getElementById('viz1598629292160');                    var vizElement = divElement.getElementsByTagName('object')[0];                    vizElement.style.width='100%';vizElement.style.height=(divElement.offsetWidth*0.75)+'px';                    var scriptElement = document.createElement('script');                    scriptElement.src = 'https://public.tableau.com/javascripts/api/viz_v1.js';                    vizElement.parentNode.insertBefore(scriptElement, vizElement);                </script>"
      ],
      "metadata": {
        "colab": {
          "base_uri": "https://localhost:8080/",
          "height": 17
        },
        "id": "d9wJ4FKgB3SR",
        "outputId": "f73a6660-2d92-4db9-9eac-45e81496fe6b"
      },
      "execution_count": null,
      "outputs": [
        {
          "output_type": "display_data",
          "data": {
            "text/plain": [
              "<IPython.core.display.HTML object>"
            ],
            "text/html": [
              "<div class='tableauPlaceholder' id='viz1598629292160' style='position: relative'><noscript><a href='#'><img alt='Movies produced during a particular year vs streaming platform' src='https:&#47;&#47;public.tableau.com&#47;static&#47;images&#47;Mo&#47;Moviesavailableonstreamingplatforms&#47;MovieyearvsPlatform&#47;1_rss.png' style='border: none' /></a></noscript><object class='tableauViz'  style='display:none;'><param name='host_url' value='https%3A%2F%2Fpublic.tableau.com%2F' /> <param name='embed_code_version' value='3' /> <param name='site_root' value='' /><param name='name' value='Moviesavailableonstreamingplatforms&#47;MovieyearvsPlatform' /><param name='tabs' value='no' /><param name='toolbar' value='yes' /><param name='static_image' value='https:&#47;&#47;public.tableau.com&#47;static&#47;images&#47;Mo&#47;Moviesavailableonstreamingplatforms&#47;MovieyearvsPlatform&#47;1.png' /> <param name='animate_transition' value='yes' /><param name='display_static_image' value='yes' /><param name='display_spinner' value='yes' /><param name='display_overlay' value='yes' /><param name='display_count' value='yes' /><param name='language' value='en-GB' /></object></div>                <script type='text/javascript'>                    var divElement = document.getElementById('viz1598629292160');                    var vizElement = divElement.getElementsByTagName('object')[0];                    vizElement.style.width='100%';vizElement.style.height=(divElement.offsetWidth*0.75)+'px';                    var scriptElement = document.createElement('script');                    scriptElement.src = 'https://public.tableau.com/javascripts/api/viz_v1.js';                    vizElement.parentNode.insertBefore(scriptElement, vizElement);                </script>"
            ]
          },
          "metadata": {}
        }
      ]
    },
    {
      "cell_type": "code",
      "source": [
        "%%HTML\n",
        "<div class='tableauPlaceholder' id='viz1598629363727' style='position: relative'><noscript><a href='#'><img alt='Movies recommended for selected age groups vs streaming platform' src='https:&#47;&#47;public.tableau.com&#47;static&#47;images&#47;Mo&#47;Moviesavailableonstreamingplatforms&#47;AgevsPlatform&#47;1_rss.png' style='border: none' /></a></noscript><object class='tableauViz'  style='display:none;'><param name='host_url' value='https%3A%2F%2Fpublic.tableau.com%2F' /> <param name='embed_code_version' value='3' /> <param name='site_root' value='' /><param name='name' value='Moviesavailableonstreamingplatforms&#47;AgevsPlatform' /><param name='tabs' value='no' /><param name='toolbar' value='yes' /><param name='static_image' value='https:&#47;&#47;public.tableau.com&#47;static&#47;images&#47;Mo&#47;Moviesavailableonstreamingplatforms&#47;AgevsPlatform&#47;1.png' /> <param name='animate_transition' value='yes' /><param name='display_static_image' value='yes' /><param name='display_spinner' value='yes' /><param name='display_overlay' value='yes' /><param name='display_count' value='yes' /><param name='language' value='en-GB' /></object></div>                <script type='text/javascript'>                    var divElement = document.getElementById('viz1598629363727');                    var vizElement = divElement.getElementsByTagName('object')[0];                    vizElement.style.width='100%';vizElement.style.height=(divElement.offsetWidth*0.75)+'px';                    var scriptElement = document.createElement('script');                    scriptElement.src = 'https://public.tableau.com/javascripts/api/viz_v1.js';                    vizElement.parentNode.insertBefore(scriptElement, vizElement);                </script>"
      ],
      "metadata": {
        "colab": {
          "base_uri": "https://localhost:8080/",
          "height": 900
        },
        "id": "oZz2GqKrB3Y0",
        "outputId": "41fb4f6c-6266-425b-d88b-797bdfab5db9"
      },
      "execution_count": null,
      "outputs": [
        {
          "output_type": "display_data",
          "data": {
            "text/plain": [
              "<IPython.core.display.HTML object>"
            ],
            "text/html": [
              "<div class='tableauPlaceholder' id='viz1598629363727' style='position: relative'><noscript><a href='#'><img alt='Movies recommended for selected age groups vs streaming platform' src='https:&#47;&#47;public.tableau.com&#47;static&#47;images&#47;Mo&#47;Moviesavailableonstreamingplatforms&#47;AgevsPlatform&#47;1_rss.png' style='border: none' /></a></noscript><object class='tableauViz'  style='display:none;'><param name='host_url' value='https%3A%2F%2Fpublic.tableau.com%2F' /> <param name='embed_code_version' value='3' /> <param name='site_root' value='' /><param name='name' value='Moviesavailableonstreamingplatforms&#47;AgevsPlatform' /><param name='tabs' value='no' /><param name='toolbar' value='yes' /><param name='static_image' value='https:&#47;&#47;public.tableau.com&#47;static&#47;images&#47;Mo&#47;Moviesavailableonstreamingplatforms&#47;AgevsPlatform&#47;1.png' /> <param name='animate_transition' value='yes' /><param name='display_static_image' value='yes' /><param name='display_spinner' value='yes' /><param name='display_overlay' value='yes' /><param name='display_count' value='yes' /><param name='language' value='en-GB' /></object></div>                <script type='text/javascript'>                    var divElement = document.getElementById('viz1598629363727');                    var vizElement = divElement.getElementsByTagName('object')[0];                    vizElement.style.width='100%';vizElement.style.height=(divElement.offsetWidth*0.75)+'px';                    var scriptElement = document.createElement('script');                    scriptElement.src = 'https://public.tableau.com/javascripts/api/viz_v1.js';                    vizElement.parentNode.insertBefore(scriptElement, vizElement);                </script>"
            ]
          },
          "metadata": {}
        }
      ]
    },
    {
      "cell_type": "code",
      "source": [
        "%%HTML\n",
        "<iframe width=\"600px\" height=\"200px\" src=\"https://public.tableau.com/views/Moviesavailableonstreamingplatforms/Movieavailability?:language=en-GB&:display_count=y&:showVizHome=no&:origin=viz_share_link\">\n",
        "</iframe>"
      ],
      "metadata": {
        "colab": {
          "base_uri": "https://localhost:8080/",
          "height": 225
        },
        "id": "Bs4xfGBmB3fg",
        "outputId": "07e1310d-7e4a-48c3-96a3-5e9ba5b5d312"
      },
      "execution_count": null,
      "outputs": [
        {
          "output_type": "display_data",
          "data": {
            "text/plain": [
              "<IPython.core.display.HTML object>"
            ],
            "text/html": [
              "<iframe width=\"600px\" height=\"200px\" src=\"https://public.tableau.com/views/Moviesavailableonstreamingplatforms/Movieavailability?:language=en-GB&:display_count=y&:showVizHome=no&:origin=viz_share_link\">\n",
              "</iframe>"
            ]
          },
          "metadata": {}
        }
      ]
    },
    {
      "cell_type": "code",
      "source": [
        "%%HTML\n",
        "<iframe width=\"700px\" height=\"894px\" src=\"https://public.tableau.com/views/Moviesavailableonstreamingplatforms/Moviesavailableonstreamingapplications?:language=en-GB&:display_count=y&:showVizHome=no&:origin=viz_share_link\">\n",
        "</iframe>"
      ],
      "metadata": {
        "colab": {
          "base_uri": "https://localhost:8080/",
          "height": 919
        },
        "id": "4Aa-fVaFB3o9",
        "outputId": "54d4528e-d321-4052-e664-336734c4158e"
      },
      "execution_count": null,
      "outputs": [
        {
          "output_type": "display_data",
          "data": {
            "text/plain": [
              "<IPython.core.display.HTML object>"
            ],
            "text/html": [
              "<iframe width=\"700px\" height=\"894px\" src=\"https://public.tableau.com/views/Moviesavailableonstreamingplatforms/Moviesavailableonstreamingapplications?:language=en-GB&:display_count=y&:showVizHome=no&:origin=viz_share_link\">\n",
              "</iframe>"
            ]
          },
          "metadata": {}
        }
      ]
    },
    {
      "cell_type": "code",
      "source": [
        ""
      ],
      "metadata": {
        "id": "NzbvgrVQB4C0"
      },
      "execution_count": null,
      "outputs": []
    }
  ]
}