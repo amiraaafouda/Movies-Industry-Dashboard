{
  "cells": [
    {
      "cell_type": "code",
      "execution_count": null,
      "metadata": {
        "id": "VwraxX-kV7fq"
      },
      "outputs": [],
      "source": [
        "%config completer.use_jedi = False"
      ]
    },
    {
      "cell_type": "code",
      "execution_count": null,
      "metadata": {
        "id": "0KqZDamSWi04"
      },
      "outputs": [],
      "source": [
        "import dash\n",
        "from dash import html\n",
        "from dash import dcc\n",
        "from dash.html.Button import Button\n",
        "import plotly.express as px\n",
        "from dash.dependencies import Input, Output,State\n",
        "import numpy as np\n",
        "from traitlets.traitlets import Int\n",
        "import pandas as pd\n",
        "import plotly.graph_objs as go\n",
        "import pycountry\n",
        "import plotly.io as pio\n",
        "import matplotlib.pyplot as plt"
      ]
    },
    {
      "cell_type": "code",
      "execution_count": null,
      "metadata": {
        "id": "zpmJPbI4WH8W"
      },
      "outputs": [],
      "source": [
        "import plotly.express as px"
      ]
    },
    {
      "cell_type": "code",
      "execution_count": null,
      "metadata": {
        "id": "9HNKlI4oWIFB"
      },
      "outputs": [],
      "source": [
        "import pandas as pd"
      ]
    },
    {
      "cell_type": "code",
      "execution_count": null,
      "metadata": {
        "id": "26zTXvklWIL5"
      },
      "outputs": [],
      "source": [
        "import plotly.io as pio"
      ]
    },
    {
      "cell_type": "code",
      "execution_count": null,
      "metadata": {
        "colab": {
          "base_uri": "https://localhost:8080/"
        },
        "id": "jSkZ26zsWIQ5",
        "outputId": "cde251b2-4cb6-4dea-b0db-8ea62fcb3b9c"
      },
      "outputs": [
        {
          "name": "stdout",
          "output_type": "stream",
          "text": [
            "Collecting pycountry\n",
            "  Downloading pycountry-22.3.5.tar.gz (10.1 MB)\n",
            "\u001b[K     |████████████████████████████████| 10.1 MB 5.2 MB/s \n",
            "\u001b[?25h  Installing build dependencies ... \u001b[?25l\u001b[?25hdone\n",
            "  Getting requirements to build wheel ... \u001b[?25l\u001b[?25hdone\n",
            "    Preparing wheel metadata ... \u001b[?25l\u001b[?25hdone\n",
            "Requirement already satisfied: setuptools in /usr/local/lib/python3.7/dist-packages (from pycountry) (57.4.0)\n",
            "Building wheels for collected packages: pycountry\n",
            "  Building wheel for pycountry (PEP 517) ... \u001b[?25l\u001b[?25hdone\n",
            "  Created wheel for pycountry: filename=pycountry-22.3.5-py2.py3-none-any.whl size=10681845 sha256=725fe6a1e5ea43bbacb6fa9370be43bba6c3b6246b1010388f5374d834ac1dfa\n",
            "  Stored in directory: /root/.cache/pip/wheels/0e/06/e8/7ee176e95ea9a8a8c3b3afcb1869f20adbd42413d4611c6eb4\n",
            "Successfully built pycountry\n",
            "Installing collected packages: pycountry\n",
            "Successfully installed pycountry-22.3.5\n"
          ]
        }
      ],
      "source": [
        "pip install pycountry"
      ]
    },
    {
      "cell_type": "code",
      "execution_count": null,
      "metadata": {
        "id": "eGoRdBrmWIVr"
      },
      "outputs": [],
      "source": [
        "import pycountry"
      ]
    },
    {
      "cell_type": "code",
      "execution_count": null,
      "metadata": {
        "id": "J3nHDdAwWIcp"
      },
      "outputs": [],
      "source": [
        "df3 = pd.read_csv('/content/movies.csv')"
      ]
    },
    {
      "cell_type": "code",
      "execution_count": null,
      "metadata": {
        "colab": {
          "base_uri": "https://localhost:8080/",
          "height": 511
        },
        "id": "3Ipw9ShLWiGg",
        "outputId": "e6352df8-1d3c-4cd5-a711-7eeccf79d9c3"
      },
      "outputs": [
        {
          "data": {
            "text/html": [
              "\n",
              "  <div id=\"df-9e058c5b-36b6-4953-95e6-68018374c321\">\n",
              "    <div class=\"colab-df-container\">\n",
              "      <div>\n",
              "<style scoped>\n",
              "    .dataframe tbody tr th:only-of-type {\n",
              "        vertical-align: middle;\n",
              "    }\n",
              "\n",
              "    .dataframe tbody tr th {\n",
              "        vertical-align: top;\n",
              "    }\n",
              "\n",
              "    .dataframe thead th {\n",
              "        text-align: right;\n",
              "    }\n",
              "</style>\n",
              "<table border=\"1\" class=\"dataframe\">\n",
              "  <thead>\n",
              "    <tr style=\"text-align: right;\">\n",
              "      <th></th>\n",
              "      <th>name</th>\n",
              "      <th>rating</th>\n",
              "      <th>genre</th>\n",
              "      <th>year</th>\n",
              "      <th>released</th>\n",
              "      <th>score</th>\n",
              "      <th>votes</th>\n",
              "      <th>director</th>\n",
              "      <th>writer</th>\n",
              "      <th>star</th>\n",
              "      <th>country</th>\n",
              "      <th>budget</th>\n",
              "      <th>gross</th>\n",
              "      <th>company</th>\n",
              "      <th>runtime</th>\n",
              "    </tr>\n",
              "  </thead>\n",
              "  <tbody>\n",
              "    <tr>\n",
              "      <th>0</th>\n",
              "      <td>The Shining</td>\n",
              "      <td>R</td>\n",
              "      <td>Drama</td>\n",
              "      <td>1980</td>\n",
              "      <td>June 13, 1980 (United States)</td>\n",
              "      <td>8.4</td>\n",
              "      <td>927000.0</td>\n",
              "      <td>Stanley Kubrick</td>\n",
              "      <td>Stephen King</td>\n",
              "      <td>Jack Nicholson</td>\n",
              "      <td>United Kingdom</td>\n",
              "      <td>19000000.0</td>\n",
              "      <td>46998772.0</td>\n",
              "      <td>Warner Bros.</td>\n",
              "      <td>146.0</td>\n",
              "    </tr>\n",
              "    <tr>\n",
              "      <th>1</th>\n",
              "      <td>The Blue Lagoon</td>\n",
              "      <td>R</td>\n",
              "      <td>Adventure</td>\n",
              "      <td>1980</td>\n",
              "      <td>July 2, 1980 (United States)</td>\n",
              "      <td>5.8</td>\n",
              "      <td>65000.0</td>\n",
              "      <td>Randal Kleiser</td>\n",
              "      <td>Henry De Vere Stacpoole</td>\n",
              "      <td>Brooke Shields</td>\n",
              "      <td>United States</td>\n",
              "      <td>4500000.0</td>\n",
              "      <td>58853106.0</td>\n",
              "      <td>Columbia Pictures</td>\n",
              "      <td>104.0</td>\n",
              "    </tr>\n",
              "    <tr>\n",
              "      <th>2</th>\n",
              "      <td>Star Wars: Episode V - The Empire Strikes Back</td>\n",
              "      <td>PG</td>\n",
              "      <td>Action</td>\n",
              "      <td>1980</td>\n",
              "      <td>June 20, 1980 (United States)</td>\n",
              "      <td>8.7</td>\n",
              "      <td>1200000.0</td>\n",
              "      <td>Irvin Kershner</td>\n",
              "      <td>Leigh Brackett</td>\n",
              "      <td>Mark Hamill</td>\n",
              "      <td>United States</td>\n",
              "      <td>18000000.0</td>\n",
              "      <td>538375067.0</td>\n",
              "      <td>Lucasfilm</td>\n",
              "      <td>124.0</td>\n",
              "    </tr>\n",
              "    <tr>\n",
              "      <th>3</th>\n",
              "      <td>Airplane!</td>\n",
              "      <td>PG</td>\n",
              "      <td>Comedy</td>\n",
              "      <td>1980</td>\n",
              "      <td>July 2, 1980 (United States)</td>\n",
              "      <td>7.7</td>\n",
              "      <td>221000.0</td>\n",
              "      <td>Jim Abrahams</td>\n",
              "      <td>Jim Abrahams</td>\n",
              "      <td>Robert Hays</td>\n",
              "      <td>United States</td>\n",
              "      <td>3500000.0</td>\n",
              "      <td>83453539.0</td>\n",
              "      <td>Paramount Pictures</td>\n",
              "      <td>88.0</td>\n",
              "    </tr>\n",
              "    <tr>\n",
              "      <th>4</th>\n",
              "      <td>Caddyshack</td>\n",
              "      <td>R</td>\n",
              "      <td>Comedy</td>\n",
              "      <td>1980</td>\n",
              "      <td>July 25, 1980 (United States)</td>\n",
              "      <td>7.3</td>\n",
              "      <td>108000.0</td>\n",
              "      <td>Harold Ramis</td>\n",
              "      <td>Brian Doyle-Murray</td>\n",
              "      <td>Chevy Chase</td>\n",
              "      <td>United States</td>\n",
              "      <td>6000000.0</td>\n",
              "      <td>39846344.0</td>\n",
              "      <td>Orion Pictures</td>\n",
              "      <td>98.0</td>\n",
              "    </tr>\n",
              "  </tbody>\n",
              "</table>\n",
              "</div>\n",
              "      <button class=\"colab-df-convert\" onclick=\"convertToInteractive('df-9e058c5b-36b6-4953-95e6-68018374c321')\"\n",
              "              title=\"Convert this dataframe to an interactive table.\"\n",
              "              style=\"display:none;\">\n",
              "        \n",
              "  <svg xmlns=\"http://www.w3.org/2000/svg\" height=\"24px\"viewBox=\"0 0 24 24\"\n",
              "       width=\"24px\">\n",
              "    <path d=\"M0 0h24v24H0V0z\" fill=\"none\"/>\n",
              "    <path d=\"M18.56 5.44l.94 2.06.94-2.06 2.06-.94-2.06-.94-.94-2.06-.94 2.06-2.06.94zm-11 1L8.5 8.5l.94-2.06 2.06-.94-2.06-.94L8.5 2.5l-.94 2.06-2.06.94zm10 10l.94 2.06.94-2.06 2.06-.94-2.06-.94-.94-2.06-.94 2.06-2.06.94z\"/><path d=\"M17.41 7.96l-1.37-1.37c-.4-.4-.92-.59-1.43-.59-.52 0-1.04.2-1.43.59L10.3 9.45l-7.72 7.72c-.78.78-.78 2.05 0 2.83L4 21.41c.39.39.9.59 1.41.59.51 0 1.02-.2 1.41-.59l7.78-7.78 2.81-2.81c.8-.78.8-2.07 0-2.86zM5.41 20L4 18.59l7.72-7.72 1.47 1.35L5.41 20z\"/>\n",
              "  </svg>\n",
              "      </button>\n",
              "      \n",
              "  <style>\n",
              "    .colab-df-container {\n",
              "      display:flex;\n",
              "      flex-wrap:wrap;\n",
              "      gap: 12px;\n",
              "    }\n",
              "\n",
              "    .colab-df-convert {\n",
              "      background-color: #E8F0FE;\n",
              "      border: none;\n",
              "      border-radius: 50%;\n",
              "      cursor: pointer;\n",
              "      display: none;\n",
              "      fill: #1967D2;\n",
              "      height: 32px;\n",
              "      padding: 0 0 0 0;\n",
              "      width: 32px;\n",
              "    }\n",
              "\n",
              "    .colab-df-convert:hover {\n",
              "      background-color: #E2EBFA;\n",
              "      box-shadow: 0px 1px 2px rgba(60, 64, 67, 0.3), 0px 1px 3px 1px rgba(60, 64, 67, 0.15);\n",
              "      fill: #174EA6;\n",
              "    }\n",
              "\n",
              "    [theme=dark] .colab-df-convert {\n",
              "      background-color: #3B4455;\n",
              "      fill: #D2E3FC;\n",
              "    }\n",
              "\n",
              "    [theme=dark] .colab-df-convert:hover {\n",
              "      background-color: #434B5C;\n",
              "      box-shadow: 0px 1px 3px 1px rgba(0, 0, 0, 0.15);\n",
              "      filter: drop-shadow(0px 1px 2px rgba(0, 0, 0, 0.3));\n",
              "      fill: #FFFFFF;\n",
              "    }\n",
              "  </style>\n",
              "\n",
              "      <script>\n",
              "        const buttonEl =\n",
              "          document.querySelector('#df-9e058c5b-36b6-4953-95e6-68018374c321 button.colab-df-convert');\n",
              "        buttonEl.style.display =\n",
              "          google.colab.kernel.accessAllowed ? 'block' : 'none';\n",
              "\n",
              "        async function convertToInteractive(key) {\n",
              "          const element = document.querySelector('#df-9e058c5b-36b6-4953-95e6-68018374c321');\n",
              "          const dataTable =\n",
              "            await google.colab.kernel.invokeFunction('convertToInteractive',\n",
              "                                                     [key], {});\n",
              "          if (!dataTable) return;\n",
              "\n",
              "          const docLinkHtml = 'Like what you see? Visit the ' +\n",
              "            '<a target=\"_blank\" href=https://colab.research.google.com/notebooks/data_table.ipynb>data table notebook</a>'\n",
              "            + ' to learn more about interactive tables.';\n",
              "          element.innerHTML = '';\n",
              "          dataTable['output_type'] = 'display_data';\n",
              "          await google.colab.output.renderOutput(dataTable, element);\n",
              "          const docLink = document.createElement('div');\n",
              "          docLink.innerHTML = docLinkHtml;\n",
              "          element.appendChild(docLink);\n",
              "        }\n",
              "      </script>\n",
              "    </div>\n",
              "  </div>\n",
              "  "
            ],
            "text/plain": [
              "                                             name rating      genre  year  \\\n",
              "0                                     The Shining      R      Drama  1980   \n",
              "1                                 The Blue Lagoon      R  Adventure  1980   \n",
              "2  Star Wars: Episode V - The Empire Strikes Back     PG     Action  1980   \n",
              "3                                       Airplane!     PG     Comedy  1980   \n",
              "4                                      Caddyshack      R     Comedy  1980   \n",
              "\n",
              "                        released  score      votes         director  \\\n",
              "0  June 13, 1980 (United States)    8.4   927000.0  Stanley Kubrick   \n",
              "1   July 2, 1980 (United States)    5.8    65000.0   Randal Kleiser   \n",
              "2  June 20, 1980 (United States)    8.7  1200000.0   Irvin Kershner   \n",
              "3   July 2, 1980 (United States)    7.7   221000.0     Jim Abrahams   \n",
              "4  July 25, 1980 (United States)    7.3   108000.0     Harold Ramis   \n",
              "\n",
              "                    writer            star         country      budget  \\\n",
              "0             Stephen King  Jack Nicholson  United Kingdom  19000000.0   \n",
              "1  Henry De Vere Stacpoole  Brooke Shields   United States   4500000.0   \n",
              "2           Leigh Brackett     Mark Hamill   United States  18000000.0   \n",
              "3             Jim Abrahams     Robert Hays   United States   3500000.0   \n",
              "4       Brian Doyle-Murray     Chevy Chase   United States   6000000.0   \n",
              "\n",
              "         gross             company  runtime  \n",
              "0   46998772.0        Warner Bros.    146.0  \n",
              "1   58853106.0   Columbia Pictures    104.0  \n",
              "2  538375067.0           Lucasfilm    124.0  \n",
              "3   83453539.0  Paramount Pictures     88.0  \n",
              "4   39846344.0      Orion Pictures     98.0  "
            ]
          },
          "execution_count": 8,
          "metadata": {},
          "output_type": "execute_result"
        }
      ],
      "source": [
        "df3.head()"
      ]
    },
    {
      "cell_type": "code",
      "execution_count": null,
      "metadata": {
        "colab": {
          "base_uri": "https://localhost:8080/"
        },
        "id": "hZ11HJaUWiQT",
        "outputId": "c6413caa-e4dd-451f-9dc8-358a933fd090"
      },
      "outputs": [
        {
          "name": "stdout",
          "output_type": "stream",
          "text": [
            "<class 'pandas.core.frame.DataFrame'>\n",
            "RangeIndex: 7668 entries, 0 to 7667\n",
            "Data columns (total 15 columns):\n",
            " #   Column    Non-Null Count  Dtype  \n",
            "---  ------    --------------  -----  \n",
            " 0   name      7668 non-null   object \n",
            " 1   rating    7591 non-null   object \n",
            " 2   genre     7668 non-null   object \n",
            " 3   year      7668 non-null   int64  \n",
            " 4   released  7666 non-null   object \n",
            " 5   score     7665 non-null   float64\n",
            " 6   votes     7665 non-null   float64\n",
            " 7   director  7668 non-null   object \n",
            " 8   writer    7665 non-null   object \n",
            " 9   star      7667 non-null   object \n",
            " 10  country   7665 non-null   object \n",
            " 11  budget    5497 non-null   float64\n",
            " 12  gross     7479 non-null   float64\n",
            " 13  company   7651 non-null   object \n",
            " 14  runtime   7664 non-null   float64\n",
            "dtypes: float64(5), int64(1), object(9)\n",
            "memory usage: 898.7+ KB\n"
          ]
        }
      ],
      "source": [
        "df3.info()"
      ]
    },
    {
      "cell_type": "code",
      "execution_count": null,
      "metadata": {
        "id": "4rNgapBwWiYt"
      },
      "outputs": [],
      "source": [
        "df3.dropna(inplace=True)\n",
        "df.drop_duplicates(inplace = True)"
      ]
    },
    {
      "cell_type": "code",
      "execution_count": null,
      "metadata": {
        "id": "3lj4ySReWijM"
      },
      "outputs": [],
      "source": [
        "input_countries = df3['country'].unique()\n",
        "\n",
        "countries = {}\n",
        "for country in pycountry.countries:\n",
        "    countries[country.name] = country.alpha_3\n",
        "\n",
        "df3['country_code'] = [countries.get(country, 'Unknown code') for country in df3['country']]"
      ]
    },
    {
      "cell_type": "code",
      "execution_count": null,
      "metadata": {
        "colab": {
          "base_uri": "https://localhost:8080/",
          "height": 1000
        },
        "id": "2bTfejcUWirE",
        "outputId": "b235a1a5-2c76-4a3a-f93f-2631d33d0e57"
      },
      "outputs": [
        {
          "data": {
            "text/html": [
              "\n",
              "  <div id=\"df-2ceba87d-d791-4985-a2df-cacbf94f0169\">\n",
              "    <div class=\"colab-df-container\">\n",
              "      <div>\n",
              "<style scoped>\n",
              "    .dataframe tbody tr th:only-of-type {\n",
              "        vertical-align: middle;\n",
              "    }\n",
              "\n",
              "    .dataframe tbody tr th {\n",
              "        vertical-align: top;\n",
              "    }\n",
              "\n",
              "    .dataframe thead th {\n",
              "        text-align: right;\n",
              "    }\n",
              "</style>\n",
              "<table border=\"1\" class=\"dataframe\">\n",
              "  <thead>\n",
              "    <tr style=\"text-align: right;\">\n",
              "      <th></th>\n",
              "      <th>name</th>\n",
              "      <th>rating</th>\n",
              "      <th>genre</th>\n",
              "      <th>year</th>\n",
              "      <th>released</th>\n",
              "      <th>score</th>\n",
              "      <th>votes</th>\n",
              "      <th>director</th>\n",
              "      <th>writer</th>\n",
              "      <th>star</th>\n",
              "      <th>country</th>\n",
              "      <th>budget</th>\n",
              "      <th>gross</th>\n",
              "      <th>company</th>\n",
              "      <th>runtime</th>\n",
              "      <th>country_code</th>\n",
              "    </tr>\n",
              "  </thead>\n",
              "  <tbody>\n",
              "    <tr>\n",
              "      <th>0</th>\n",
              "      <td>The Shining</td>\n",
              "      <td>R</td>\n",
              "      <td>Drama</td>\n",
              "      <td>1980</td>\n",
              "      <td>June 13, 1980 (United States)</td>\n",
              "      <td>8.4</td>\n",
              "      <td>927000.0</td>\n",
              "      <td>Stanley Kubrick</td>\n",
              "      <td>Stephen King</td>\n",
              "      <td>Jack Nicholson</td>\n",
              "      <td>United Kingdom</td>\n",
              "      <td>19000000.0</td>\n",
              "      <td>46998772.0</td>\n",
              "      <td>Warner Bros.</td>\n",
              "      <td>146.0</td>\n",
              "      <td>GBR</td>\n",
              "    </tr>\n",
              "    <tr>\n",
              "      <th>1</th>\n",
              "      <td>The Blue Lagoon</td>\n",
              "      <td>R</td>\n",
              "      <td>Adventure</td>\n",
              "      <td>1980</td>\n",
              "      <td>July 2, 1980 (United States)</td>\n",
              "      <td>5.8</td>\n",
              "      <td>65000.0</td>\n",
              "      <td>Randal Kleiser</td>\n",
              "      <td>Henry De Vere Stacpoole</td>\n",
              "      <td>Brooke Shields</td>\n",
              "      <td>United States</td>\n",
              "      <td>4500000.0</td>\n",
              "      <td>58853106.0</td>\n",
              "      <td>Columbia Pictures</td>\n",
              "      <td>104.0</td>\n",
              "      <td>USA</td>\n",
              "    </tr>\n",
              "    <tr>\n",
              "      <th>2</th>\n",
              "      <td>Star Wars: Episode V - The Empire Strikes Back</td>\n",
              "      <td>PG</td>\n",
              "      <td>Action</td>\n",
              "      <td>1980</td>\n",
              "      <td>June 20, 1980 (United States)</td>\n",
              "      <td>8.7</td>\n",
              "      <td>1200000.0</td>\n",
              "      <td>Irvin Kershner</td>\n",
              "      <td>Leigh Brackett</td>\n",
              "      <td>Mark Hamill</td>\n",
              "      <td>United States</td>\n",
              "      <td>18000000.0</td>\n",
              "      <td>538375067.0</td>\n",
              "      <td>Lucasfilm</td>\n",
              "      <td>124.0</td>\n",
              "      <td>USA</td>\n",
              "    </tr>\n",
              "    <tr>\n",
              "      <th>3</th>\n",
              "      <td>Airplane!</td>\n",
              "      <td>PG</td>\n",
              "      <td>Comedy</td>\n",
              "      <td>1980</td>\n",
              "      <td>July 2, 1980 (United States)</td>\n",
              "      <td>7.7</td>\n",
              "      <td>221000.0</td>\n",
              "      <td>Jim Abrahams</td>\n",
              "      <td>Jim Abrahams</td>\n",
              "      <td>Robert Hays</td>\n",
              "      <td>United States</td>\n",
              "      <td>3500000.0</td>\n",
              "      <td>83453539.0</td>\n",
              "      <td>Paramount Pictures</td>\n",
              "      <td>88.0</td>\n",
              "      <td>USA</td>\n",
              "    </tr>\n",
              "    <tr>\n",
              "      <th>4</th>\n",
              "      <td>Caddyshack</td>\n",
              "      <td>R</td>\n",
              "      <td>Comedy</td>\n",
              "      <td>1980</td>\n",
              "      <td>July 25, 1980 (United States)</td>\n",
              "      <td>7.3</td>\n",
              "      <td>108000.0</td>\n",
              "      <td>Harold Ramis</td>\n",
              "      <td>Brian Doyle-Murray</td>\n",
              "      <td>Chevy Chase</td>\n",
              "      <td>United States</td>\n",
              "      <td>6000000.0</td>\n",
              "      <td>39846344.0</td>\n",
              "      <td>Orion Pictures</td>\n",
              "      <td>98.0</td>\n",
              "      <td>USA</td>\n",
              "    </tr>\n",
              "    <tr>\n",
              "      <th>...</th>\n",
              "      <td>...</td>\n",
              "      <td>...</td>\n",
              "      <td>...</td>\n",
              "      <td>...</td>\n",
              "      <td>...</td>\n",
              "      <td>...</td>\n",
              "      <td>...</td>\n",
              "      <td>...</td>\n",
              "      <td>...</td>\n",
              "      <td>...</td>\n",
              "      <td>...</td>\n",
              "      <td>...</td>\n",
              "      <td>...</td>\n",
              "      <td>...</td>\n",
              "      <td>...</td>\n",
              "      <td>...</td>\n",
              "    </tr>\n",
              "    <tr>\n",
              "      <th>7648</th>\n",
              "      <td>Bad Boys for Life</td>\n",
              "      <td>R</td>\n",
              "      <td>Action</td>\n",
              "      <td>2020</td>\n",
              "      <td>January 17, 2020 (United States)</td>\n",
              "      <td>6.6</td>\n",
              "      <td>140000.0</td>\n",
              "      <td>Adil El Arbi</td>\n",
              "      <td>Peter Craig</td>\n",
              "      <td>Will Smith</td>\n",
              "      <td>United States</td>\n",
              "      <td>90000000.0</td>\n",
              "      <td>426505244.0</td>\n",
              "      <td>Columbia Pictures</td>\n",
              "      <td>124.0</td>\n",
              "      <td>USA</td>\n",
              "    </tr>\n",
              "    <tr>\n",
              "      <th>7649</th>\n",
              "      <td>Sonic the Hedgehog</td>\n",
              "      <td>PG</td>\n",
              "      <td>Action</td>\n",
              "      <td>2020</td>\n",
              "      <td>February 14, 2020 (United States)</td>\n",
              "      <td>6.5</td>\n",
              "      <td>102000.0</td>\n",
              "      <td>Jeff Fowler</td>\n",
              "      <td>Pat Casey</td>\n",
              "      <td>Ben Schwartz</td>\n",
              "      <td>United States</td>\n",
              "      <td>85000000.0</td>\n",
              "      <td>319715683.0</td>\n",
              "      <td>Paramount Pictures</td>\n",
              "      <td>99.0</td>\n",
              "      <td>USA</td>\n",
              "    </tr>\n",
              "    <tr>\n",
              "      <th>7650</th>\n",
              "      <td>Dolittle</td>\n",
              "      <td>PG</td>\n",
              "      <td>Adventure</td>\n",
              "      <td>2020</td>\n",
              "      <td>January 17, 2020 (United States)</td>\n",
              "      <td>5.6</td>\n",
              "      <td>53000.0</td>\n",
              "      <td>Stephen Gaghan</td>\n",
              "      <td>Stephen Gaghan</td>\n",
              "      <td>Robert Downey Jr.</td>\n",
              "      <td>United States</td>\n",
              "      <td>175000000.0</td>\n",
              "      <td>245487753.0</td>\n",
              "      <td>Universal Pictures</td>\n",
              "      <td>101.0</td>\n",
              "      <td>USA</td>\n",
              "    </tr>\n",
              "    <tr>\n",
              "      <th>7651</th>\n",
              "      <td>The Call of the Wild</td>\n",
              "      <td>PG</td>\n",
              "      <td>Adventure</td>\n",
              "      <td>2020</td>\n",
              "      <td>February 21, 2020 (United States)</td>\n",
              "      <td>6.8</td>\n",
              "      <td>42000.0</td>\n",
              "      <td>Chris Sanders</td>\n",
              "      <td>Michael Green</td>\n",
              "      <td>Harrison Ford</td>\n",
              "      <td>Canada</td>\n",
              "      <td>135000000.0</td>\n",
              "      <td>111105497.0</td>\n",
              "      <td>20th Century Studios</td>\n",
              "      <td>100.0</td>\n",
              "      <td>CAN</td>\n",
              "    </tr>\n",
              "    <tr>\n",
              "      <th>7652</th>\n",
              "      <td>The Eight Hundred</td>\n",
              "      <td>Not Rated</td>\n",
              "      <td>Action</td>\n",
              "      <td>2020</td>\n",
              "      <td>August 28, 2020 (United States)</td>\n",
              "      <td>6.8</td>\n",
              "      <td>3700.0</td>\n",
              "      <td>Hu Guan</td>\n",
              "      <td>Hu Guan</td>\n",
              "      <td>Zhi-zhong Huang</td>\n",
              "      <td>China</td>\n",
              "      <td>80000000.0</td>\n",
              "      <td>461421559.0</td>\n",
              "      <td>Beijing Diqi Yinxiang Entertainment</td>\n",
              "      <td>149.0</td>\n",
              "      <td>CHN</td>\n",
              "    </tr>\n",
              "  </tbody>\n",
              "</table>\n",
              "<p>5421 rows × 16 columns</p>\n",
              "</div>\n",
              "      <button class=\"colab-df-convert\" onclick=\"convertToInteractive('df-2ceba87d-d791-4985-a2df-cacbf94f0169')\"\n",
              "              title=\"Convert this dataframe to an interactive table.\"\n",
              "              style=\"display:none;\">\n",
              "        \n",
              "  <svg xmlns=\"http://www.w3.org/2000/svg\" height=\"24px\"viewBox=\"0 0 24 24\"\n",
              "       width=\"24px\">\n",
              "    <path d=\"M0 0h24v24H0V0z\" fill=\"none\"/>\n",
              "    <path d=\"M18.56 5.44l.94 2.06.94-2.06 2.06-.94-2.06-.94-.94-2.06-.94 2.06-2.06.94zm-11 1L8.5 8.5l.94-2.06 2.06-.94-2.06-.94L8.5 2.5l-.94 2.06-2.06.94zm10 10l.94 2.06.94-2.06 2.06-.94-2.06-.94-.94-2.06-.94 2.06-2.06.94z\"/><path d=\"M17.41 7.96l-1.37-1.37c-.4-.4-.92-.59-1.43-.59-.52 0-1.04.2-1.43.59L10.3 9.45l-7.72 7.72c-.78.78-.78 2.05 0 2.83L4 21.41c.39.39.9.59 1.41.59.51 0 1.02-.2 1.41-.59l7.78-7.78 2.81-2.81c.8-.78.8-2.07 0-2.86zM5.41 20L4 18.59l7.72-7.72 1.47 1.35L5.41 20z\"/>\n",
              "  </svg>\n",
              "      </button>\n",
              "      \n",
              "  <style>\n",
              "    .colab-df-container {\n",
              "      display:flex;\n",
              "      flex-wrap:wrap;\n",
              "      gap: 12px;\n",
              "    }\n",
              "\n",
              "    .colab-df-convert {\n",
              "      background-color: #E8F0FE;\n",
              "      border: none;\n",
              "      border-radius: 50%;\n",
              "      cursor: pointer;\n",
              "      display: none;\n",
              "      fill: #1967D2;\n",
              "      height: 32px;\n",
              "      padding: 0 0 0 0;\n",
              "      width: 32px;\n",
              "    }\n",
              "\n",
              "    .colab-df-convert:hover {\n",
              "      background-color: #E2EBFA;\n",
              "      box-shadow: 0px 1px 2px rgba(60, 64, 67, 0.3), 0px 1px 3px 1px rgba(60, 64, 67, 0.15);\n",
              "      fill: #174EA6;\n",
              "    }\n",
              "\n",
              "    [theme=dark] .colab-df-convert {\n",
              "      background-color: #3B4455;\n",
              "      fill: #D2E3FC;\n",
              "    }\n",
              "\n",
              "    [theme=dark] .colab-df-convert:hover {\n",
              "      background-color: #434B5C;\n",
              "      box-shadow: 0px 1px 3px 1px rgba(0, 0, 0, 0.15);\n",
              "      filter: drop-shadow(0px 1px 2px rgba(0, 0, 0, 0.3));\n",
              "      fill: #FFFFFF;\n",
              "    }\n",
              "  </style>\n",
              "\n",
              "      <script>\n",
              "        const buttonEl =\n",
              "          document.querySelector('#df-2ceba87d-d791-4985-a2df-cacbf94f0169 button.colab-df-convert');\n",
              "        buttonEl.style.display =\n",
              "          google.colab.kernel.accessAllowed ? 'block' : 'none';\n",
              "\n",
              "        async function convertToInteractive(key) {\n",
              "          const element = document.querySelector('#df-2ceba87d-d791-4985-a2df-cacbf94f0169');\n",
              "          const dataTable =\n",
              "            await google.colab.kernel.invokeFunction('convertToInteractive',\n",
              "                                                     [key], {});\n",
              "          if (!dataTable) return;\n",
              "\n",
              "          const docLinkHtml = 'Like what you see? Visit the ' +\n",
              "            '<a target=\"_blank\" href=https://colab.research.google.com/notebooks/data_table.ipynb>data table notebook</a>'\n",
              "            + ' to learn more about interactive tables.';\n",
              "          element.innerHTML = '';\n",
              "          dataTable['output_type'] = 'display_data';\n",
              "          await google.colab.output.renderOutput(dataTable, element);\n",
              "          const docLink = document.createElement('div');\n",
              "          docLink.innerHTML = docLinkHtml;\n",
              "          element.appendChild(docLink);\n",
              "        }\n",
              "      </script>\n",
              "    </div>\n",
              "  </div>\n",
              "  "
            ],
            "text/plain": [
              "                                                name     rating      genre  \\\n",
              "0                                        The Shining          R      Drama   \n",
              "1                                    The Blue Lagoon          R  Adventure   \n",
              "2     Star Wars: Episode V - The Empire Strikes Back         PG     Action   \n",
              "3                                          Airplane!         PG     Comedy   \n",
              "4                                         Caddyshack          R     Comedy   \n",
              "...                                              ...        ...        ...   \n",
              "7648                               Bad Boys for Life          R     Action   \n",
              "7649                              Sonic the Hedgehog         PG     Action   \n",
              "7650                                        Dolittle         PG  Adventure   \n",
              "7651                            The Call of the Wild         PG  Adventure   \n",
              "7652                               The Eight Hundred  Not Rated     Action   \n",
              "\n",
              "      year                           released  score      votes  \\\n",
              "0     1980      June 13, 1980 (United States)    8.4   927000.0   \n",
              "1     1980       July 2, 1980 (United States)    5.8    65000.0   \n",
              "2     1980      June 20, 1980 (United States)    8.7  1200000.0   \n",
              "3     1980       July 2, 1980 (United States)    7.7   221000.0   \n",
              "4     1980      July 25, 1980 (United States)    7.3   108000.0   \n",
              "...    ...                                ...    ...        ...   \n",
              "7648  2020   January 17, 2020 (United States)    6.6   140000.0   \n",
              "7649  2020  February 14, 2020 (United States)    6.5   102000.0   \n",
              "7650  2020   January 17, 2020 (United States)    5.6    53000.0   \n",
              "7651  2020  February 21, 2020 (United States)    6.8    42000.0   \n",
              "7652  2020    August 28, 2020 (United States)    6.8     3700.0   \n",
              "\n",
              "             director                   writer               star  \\\n",
              "0     Stanley Kubrick             Stephen King     Jack Nicholson   \n",
              "1      Randal Kleiser  Henry De Vere Stacpoole     Brooke Shields   \n",
              "2      Irvin Kershner           Leigh Brackett        Mark Hamill   \n",
              "3        Jim Abrahams             Jim Abrahams        Robert Hays   \n",
              "4        Harold Ramis       Brian Doyle-Murray        Chevy Chase   \n",
              "...               ...                      ...                ...   \n",
              "7648     Adil El Arbi              Peter Craig         Will Smith   \n",
              "7649      Jeff Fowler                Pat Casey       Ben Schwartz   \n",
              "7650   Stephen Gaghan           Stephen Gaghan  Robert Downey Jr.   \n",
              "7651    Chris Sanders            Michael Green      Harrison Ford   \n",
              "7652          Hu Guan                  Hu Guan    Zhi-zhong Huang   \n",
              "\n",
              "             country       budget        gross  \\\n",
              "0     United Kingdom   19000000.0   46998772.0   \n",
              "1      United States    4500000.0   58853106.0   \n",
              "2      United States   18000000.0  538375067.0   \n",
              "3      United States    3500000.0   83453539.0   \n",
              "4      United States    6000000.0   39846344.0   \n",
              "...              ...          ...          ...   \n",
              "7648   United States   90000000.0  426505244.0   \n",
              "7649   United States   85000000.0  319715683.0   \n",
              "7650   United States  175000000.0  245487753.0   \n",
              "7651          Canada  135000000.0  111105497.0   \n",
              "7652           China   80000000.0  461421559.0   \n",
              "\n",
              "                                  company  runtime country_code  \n",
              "0                            Warner Bros.    146.0          GBR  \n",
              "1                       Columbia Pictures    104.0          USA  \n",
              "2                               Lucasfilm    124.0          USA  \n",
              "3                      Paramount Pictures     88.0          USA  \n",
              "4                          Orion Pictures     98.0          USA  \n",
              "...                                   ...      ...          ...  \n",
              "7648                    Columbia Pictures    124.0          USA  \n",
              "7649                   Paramount Pictures     99.0          USA  \n",
              "7650                   Universal Pictures    101.0          USA  \n",
              "7651                 20th Century Studios    100.0          CAN  \n",
              "7652  Beijing Diqi Yinxiang Entertainment    149.0          CHN  \n",
              "\n",
              "[5421 rows x 16 columns]"
            ]
          },
          "execution_count": 12,
          "metadata": {},
          "output_type": "execute_result"
        }
      ],
      "source": [
        "df3"
      ]
    },
    {
      "cell_type": "code",
      "execution_count": null,
      "metadata": {
        "colab": {
          "base_uri": "https://localhost:8080/"
        },
        "id": "RF8ahWhFWjKs",
        "outputId": "7308423d-8171-4fa7-f0b4-fda53750b8e9"
      },
      "outputs": [
        {
          "name": "stdout",
          "output_type": "stream",
          "text": [
            "Collecting dash\n",
            "  Downloading dash-2.3.1-py3-none-any.whl (9.6 MB)\n",
            "\u001b[K     |████████████████████████████████| 9.6 MB 5.1 MB/s \n",
            "\u001b[?25hCollecting dash-core-components==2.0.0\n",
            "  Downloading dash_core_components-2.0.0-py3-none-any.whl (3.8 kB)\n",
            "Requirement already satisfied: plotly>=5.0.0 in /usr/local/lib/python3.7/dist-packages (from dash) (5.5.0)\n",
            "Collecting dash-html-components==2.0.0\n",
            "  Downloading dash_html_components-2.0.0-py3-none-any.whl (4.1 kB)\n",
            "Requirement already satisfied: Flask>=1.0.4 in /usr/local/lib/python3.7/dist-packages (from dash) (1.1.4)\n",
            "Collecting flask-compress\n",
            "  Downloading Flask_Compress-1.11-py3-none-any.whl (7.9 kB)\n",
            "Collecting dash-table==5.0.0\n",
            "  Downloading dash_table-5.0.0-py3-none-any.whl (3.9 kB)\n",
            "Requirement already satisfied: click<8.0,>=5.1 in /usr/local/lib/python3.7/dist-packages (from Flask>=1.0.4->dash) (7.1.2)\n",
            "Requirement already satisfied: itsdangerous<2.0,>=0.24 in /usr/local/lib/python3.7/dist-packages (from Flask>=1.0.4->dash) (1.1.0)\n",
            "Requirement already satisfied: Jinja2<3.0,>=2.10.1 in /usr/local/lib/python3.7/dist-packages (from Flask>=1.0.4->dash) (2.11.3)\n",
            "Requirement already satisfied: Werkzeug<2.0,>=0.15 in /usr/local/lib/python3.7/dist-packages (from Flask>=1.0.4->dash) (1.0.1)\n",
            "Requirement already satisfied: MarkupSafe>=0.23 in /usr/local/lib/python3.7/dist-packages (from Jinja2<3.0,>=2.10.1->Flask>=1.0.4->dash) (2.0.1)\n",
            "Requirement already satisfied: six in /usr/local/lib/python3.7/dist-packages (from plotly>=5.0.0->dash) (1.15.0)\n",
            "Requirement already satisfied: tenacity>=6.2.0 in /usr/local/lib/python3.7/dist-packages (from plotly>=5.0.0->dash) (8.0.1)\n",
            "Collecting brotli\n",
            "  Downloading Brotli-1.0.9-cp37-cp37m-manylinux1_x86_64.whl (357 kB)\n",
            "\u001b[K     |████████████████████████████████| 357 kB 66.2 MB/s \n",
            "\u001b[?25hInstalling collected packages: brotli, flask-compress, dash-table, dash-html-components, dash-core-components, dash\n",
            "Successfully installed brotli-1.0.9 dash-2.3.1 dash-core-components-2.0.0 dash-html-components-2.0.0 dash-table-5.0.0 flask-compress-1.11\n"
          ]
        }
      ],
      "source": [
        "pip install dash"
      ]
    },
    {
      "cell_type": "code",
      "execution_count": null,
      "metadata": {
        "id": "VvcWKIncXqma"
      },
      "outputs": [],
      "source": [
        "pio.templates.default = \"plotly_dark\""
      ]
    },
    {
      "cell_type": "code",
      "execution_count": null,
      "metadata": {
        "id": "cehGbL7sWjzW"
      },
      "outputs": [],
      "source": [
        "app=dash.Dash( external_stylesheets =['https://codepen.io/chriddyp/pen/bWLwgP.css'])"
      ]
    },
    {
      "cell_type": "code",
      "execution_count": null,
      "metadata": {
        "colab": {
          "base_uri": "https://localhost:8080/"
        },
        "id": "AwidLnNuWkAu",
        "outputId": "cc4ee7f7-bf60-4469-e6b0-a0c78584c196"
      },
      "outputs": [
        {
          "data": {
            "text/plain": [
              "['Action',\n",
              " 'Adventure',\n",
              " 'Animation',\n",
              " 'Biography',\n",
              " 'Comedy',\n",
              " 'Crime',\n",
              " 'Drama',\n",
              " 'Horror']"
            ]
          },
          "execution_count": 17,
          "metadata": {},
          "output_type": "execute_result"
        }
      ],
      "source": [
        "#start Rating Distribution with Genres\n",
        "movie_genre_gross = df.groupby(['genre'])['gross'].sum().to_frame().reset_index().sort_values('gross', ascending = False).head(8)\n",
        "movie_genre_gross['genre'].to_list()\n",
        "list_movie_genre_gross = sorted(movie_genre_gross['genre'].to_list())\n",
        "# movie_genre_gross\n",
        "list_movie_genre_gross"
      ]
    },
    {
      "cell_type": "code",
      "execution_count": null,
      "metadata": {
        "id": "uhGRXp2vWkRf"
      },
      "outputs": [],
      "source": [
        "genre_trend = df.groupby(['year','genre'])['gross'].sum().unstack().fillna(0)\n",
        "genre_trend = genre_trend[['Action',\n",
        " 'Adventure',\n",
        " 'Animation',\n",
        " 'Biography',\n",
        " 'Comedy',\n",
        " 'Crime',\n",
        " 'Drama',\n",
        " 'Horror']]"
      ]
    },
    {
      "cell_type": "code",
      "execution_count": null,
      "metadata": {
        "id": "fiFhJH6YWIwO"
      },
      "outputs": [],
      "source": [
        "df['count'] = 1"
      ]
    },
    {
      "cell_type": "code",
      "execution_count": null,
      "metadata": {
        "id": "1hrV_AELWI8b"
      },
      "outputs": [],
      "source": [
        "#get a list of all genres\n",
        "genres = df['genre'].unique()"
      ]
    },
    {
      "cell_type": "code",
      "execution_count": null,
      "metadata": {
        "colab": {
          "base_uri": "https://localhost:8080/",
          "height": 542
        },
        "id": "PAZvnddlWJDm",
        "outputId": "62797d00-073d-411f-c898-9384afb39ab0"
      },
      "outputs": [
        {
          "data": {
            "text/html": [
              "<html>\n",
              "<head><meta charset=\"utf-8\" /></head>\n",
              "<body>\n",
              "    <div>            <script src=\"https://cdnjs.cloudflare.com/ajax/libs/mathjax/2.7.5/MathJax.js?config=TeX-AMS-MML_SVG\"></script><script type=\"text/javascript\">if (window.MathJax) {MathJax.Hub.Config({SVG: {font: \"STIX-Web\"}});}</script>                <script type=\"text/javascript\">window.PlotlyConfig = {MathJaxConfig: 'local'};</script>\n",
              "        <script src=\"https://cdn.plot.ly/plotly-2.8.3.min.js\"></script>                <div id=\"a1a68858-48be-4c98-97bd-0bcbd930d4b5\" class=\"plotly-graph-div\" style=\"height:525px; width:100%;\"></div>            <script type=\"text/javascript\">                                    window.PLOTLYENV=window.PLOTLYENV || {};                                    if (document.getElementById(\"a1a68858-48be-4c98-97bd-0bcbd930d4b5\")) {                    Plotly.newPlot(                        \"a1a68858-48be-4c98-97bd-0bcbd930d4b5\",                        [{\"name\":\"Drama\",\"x\":[6.4,6.6,6.2,6.5,6.7,6.1,6.8,6.3,7.0,6.9,7.3,7.2,6.0,5.8,5.9,7.1,5.6,5.7,7.4,7.5,5.5,5.4,7.6,7.7,5.3,7.8,5.1,5.2,8.0,5.0,4.8,4.9,8.1,7.9,4.7,4.6,4.5,8.2,4.3,8.3,4.4,4.2,3.7,8.4,4.0,3.8,4.1,3.9,8.5,8.6,3.4,3.5,3.2,3.0,8.7,2.5,8.8,3.3,3.6,2.9,3.1,2.7,8.9,2.2,1.9,2.1,2.8,2.4,2.6,2.3,9.0,9.3],\"y\":[44,49,26,39,38,28,43,27,37,40,37,50,23,19,19,33,9,14,29,34,9,16,34,23,8,20,6,6,15,6,5,3,13,12,3,2,5,4,1,10,0,2,1,4,1,1,3,1,4,1,0,0,0,1,0,0,2,0,0,0,0,1,0,0,0,0,0,0,0,1,0,1],\"type\":\"bar\"},{\"name\":\"Adventure\",\"x\":[6.4,6.6,6.2,6.5,6.7,6.1,6.8,6.3,7.0,6.9,7.3,7.2,6.0,5.8,5.9,7.1,5.6,5.7,7.4,7.5,5.5,5.4,7.6,7.7,5.3,7.8,5.1,5.2,8.0,5.0,4.8,4.9,8.1,7.9,4.7,4.6,4.5,8.2,4.3,8.3,4.4,4.2,3.7,8.4,4.0,3.8,4.1,3.9,8.5,8.6,3.4,3.5,3.2,3.0,8.7,2.5,8.8,3.3,3.6,2.9,3.1,2.7,8.9,2.2,1.9,2.1,2.8,2.4,2.6,2.3,9.0,9.3],\"y\":[15,10,12,12,11,13,17,10,16,6,15,9,10,14,8,6,7,9,13,4,7,6,7,3,10,7,4,7,4,3,5,7,5,5,5,1,2,0,0,1,0,4,1,0,4,1,1,0,1,1,2,0,2,1,0,0,0,1,0,0,0,0,0,0,0,0,0,1,1,0,0,0],\"type\":\"bar\"},{\"name\":\"Action\",\"x\":[6.4,6.6,6.2,6.5,6.7,6.1,6.8,6.3,7.0,6.9,7.3,7.2,6.0,5.8,5.9,7.1,5.6,5.7,7.4,7.5,5.5,5.4,7.6,7.7,5.3,7.8,5.1,5.2,8.0,5.0,4.8,4.9,8.1,7.9,4.7,4.6,4.5,8.2,4.3,8.3,4.4,4.2,3.7,8.4,4.0,3.8,4.1,3.9,8.5,8.6,3.4,3.5,3.2,3.0,8.7,2.5,8.8,3.3,3.6,2.9,3.1,2.7,8.9,2.2,1.9,2.1,2.8,2.4,2.6,2.3,9.0,9.3],\"y\":[69,74,78,61,63,71,42,65,47,48,38,37,58,51,48,31,45,48,23,22,41,38,26,18,22,14,21,30,15,10,11,15,9,10,11,12,11,4,8,2,11,7,8,5,3,6,4,2,2,0,2,1,0,0,3,3,2,0,0,2,2,0,1,1,0,1,0,1,0,0,1,0],\"type\":\"bar\"},{\"name\":\"Comedy\",\"x\":[6.4,6.6,6.2,6.5,6.7,6.1,6.8,6.3,7.0,6.9,7.3,7.2,6.0,5.8,5.9,7.1,5.6,5.7,7.4,7.5,5.5,5.4,7.6,7.7,5.3,7.8,5.1,5.2,8.0,5.0,4.8,4.9,8.1,7.9,4.7,4.6,4.5,8.2,4.3,8.3,4.4,4.2,3.7,8.4,4.0,3.8,4.1,3.9,8.5,8.6,3.4,3.5,3.2,3.0,8.7,2.5,8.8,3.3,3.6,2.9,3.1,2.7,8.9,2.2,1.9,2.1,2.8,2.4,2.6,2.3,9.0,9.3],\"y\":[82,70,85,60,61,64,62,67,58,58,37,37,52,61,61,40,49,44,26,25,50,46,21,26,36,6,29,18,4,18,17,15,6,10,15,11,8,0,6,1,8,2,3,0,0,5,3,4,0,2,3,4,2,2,0,1,0,2,2,1,1,2,0,2,2,1,2,0,0,0,0,0],\"type\":\"bar\"},{\"name\":\"Horror\",\"x\":[6.4,6.6,6.2,6.5,6.7,6.1,6.8,6.3,7.0,6.9,7.3,7.2,6.0,5.8,5.9,7.1,5.6,5.7,7.4,7.5,5.5,5.4,7.6,7.7,5.3,7.8,5.1,5.2,8.0,5.0,4.8,4.9,8.1,7.9,4.7,4.6,4.5,8.2,4.3,8.3,4.4,4.2,3.7,8.4,4.0,3.8,4.1,3.9,8.5,8.6,3.4,3.5,3.2,3.0,8.7,2.5,8.8,3.3,3.6,2.9,3.1,2.7,8.9,2.2,1.9,2.1,2.8,2.4,2.6,2.3,9.0,9.3],\"y\":[8,7,17,15,6,15,10,4,5,1,6,2,14,7,10,3,14,13,1,3,9,8,2,1,6,0,12,9,0,4,8,4,1,0,3,4,2,0,3,0,0,1,2,0,3,0,2,4,0,0,0,0,1,0,0,0,0,0,1,0,0,0,0,0,0,0,0,0,0,0,0,0],\"type\":\"bar\"},{\"name\":\"Biography\",\"x\":[6.4,6.6,6.2,6.5,6.7,6.1,6.8,6.3,7.0,6.9,7.3,7.2,6.0,5.8,5.9,7.1,5.6,5.7,7.4,7.5,5.5,5.4,7.6,7.7,5.3,7.8,5.1,5.2,8.0,5.0,4.8,4.9,8.1,7.9,4.7,4.6,4.5,8.2,4.3,8.3,4.4,4.2,3.7,8.4,4.0,3.8,4.1,3.9,8.5,8.6,3.4,3.5,3.2,3.0,8.7,2.5,8.8,3.3,3.6,2.9,3.1,2.7,8.9,2.2,1.9,2.1,2.8,2.4,2.6,2.3,9.0,9.3],\"y\":[9,13,4,10,13,1,17,6,25,19,31,26,2,6,2,21,5,1,17,18,1,1,8,13,1,15,0,0,9,0,0,0,6,1,1,0,0,4,0,2,0,0,0,0,0,0,0,0,1,0,0,0,0,0,1,0,0,0,0,0,0,0,1,0,0,0,0,0,0,0,0,0],\"type\":\"bar\"},{\"name\":\"Crime\",\"x\":[6.4,6.6,6.2,6.5,6.7,6.1,6.8,6.3,7.0,6.9,7.3,7.2,6.0,5.8,5.9,7.1,5.6,5.7,7.4,7.5,5.5,5.4,7.6,7.7,5.3,7.8,5.1,5.2,8.0,5.0,4.8,4.9,8.1,7.9,4.7,4.6,4.5,8.2,4.3,8.3,4.4,4.2,3.7,8.4,4.0,3.8,4.1,3.9,8.5,8.6,3.4,3.5,3.2,3.0,8.7,2.5,8.8,3.3,3.6,2.9,3.1,2.7,8.9,2.2,1.9,2.1,2.8,2.4,2.6,2.3,9.0,9.3],\"y\":[21,20,21,28,19,19,16,18,12,14,16,19,9,8,10,17,9,9,10,16,1,2,10,11,9,9,4,3,5,1,0,1,4,7,1,1,0,4,1,2,0,0,0,2,2,0,0,0,2,3,1,0,0,0,0,0,0,0,1,0,0,0,1,0,0,0,0,0,0,0,0,0],\"type\":\"bar\"},{\"name\":\"Fantasy\",\"x\":[6.4,6.6,6.2,6.5,6.7,6.1,6.8,6.3,7.0,6.9,7.3,7.2,6.0,5.8,5.9,7.1,5.6,5.7,7.4,7.5,5.5,5.4,7.6,7.7,5.3,7.8,5.1,5.2,8.0,5.0,4.8,4.9,8.1,7.9,4.7,4.6,4.5,8.2,4.3,8.3,4.4,4.2,3.7,8.4,4.0,3.8,4.1,3.9,8.5,8.6,3.4,3.5,3.2,3.0,8.7,2.5,8.8,3.3,3.6,2.9,3.1,2.7,8.9,2.2,1.9,2.1,2.8,2.4,2.6,2.3,9.0,9.3],\"y\":[0,4,3,3,3,1,2,0,0,1,1,0,1,2,1,1,3,0,0,1,2,0,1,0,4,0,2,0,0,2,1,2,0,0,0,0,0,0,0,0,0,0,0,0,0,0,0,0,0,0,0,0,0,0,0,0,0,0,0,0,0,0,0,0,0,0,0,0,0,0,0,0],\"type\":\"bar\"},{\"name\":\"Animation\",\"x\":[6.4,6.6,6.2,6.5,6.7,6.1,6.8,6.3,7.0,6.9,7.3,7.2,6.0,5.8,5.9,7.1,5.6,5.7,7.4,7.5,5.5,5.4,7.6,7.7,5.3,7.8,5.1,5.2,8.0,5.0,4.8,4.9,8.1,7.9,4.7,4.6,4.5,8.2,4.3,8.3,4.4,4.2,3.7,8.4,4.0,3.8,4.1,3.9,8.5,8.6,3.4,3.5,3.2,3.0,8.7,2.5,8.8,3.3,3.6,2.9,3.1,2.7,8.9,2.2,1.9,2.1,2.8,2.4,2.6,2.3,9.0,9.3],\"y\":[13,12,5,14,14,12,14,13,5,12,15,15,10,3,6,13,6,7,6,3,2,6,9,9,2,8,1,2,9,4,1,1,4,3,0,1,2,4,2,1,0,1,0,3,0,0,0,0,1,1,0,1,0,0,0,0,0,1,0,0,0,0,0,0,0,0,0,0,0,0,0,0],\"type\":\"bar\"},{\"name\":\"Family\",\"x\":[6.4,6.6,6.2,6.5,6.7,6.1,6.8,6.3,7.0,6.9,7.3,7.2,6.0,5.8,5.9,7.1,5.6,5.7,7.4,7.5,5.5,5.4,7.6,7.7,5.3,7.8,5.1,5.2,8.0,5.0,4.8,4.9,8.1,7.9,4.7,4.6,4.5,8.2,4.3,8.3,4.4,4.2,3.7,8.4,4.0,3.8,4.1,3.9,8.5,8.6,3.4,3.5,3.2,3.0,8.7,2.5,8.8,3.3,3.6,2.9,3.1,2.7,8.9,2.2,1.9,2.1,2.8,2.4,2.6,2.3,9.0,9.3],\"y\":[0,0,0,0,0,0,0,0,0,0,0,0,0,0,2,1,0,0,0,0,0,0,0,0,0,1,0,0,0,0,0,0,0,0,0,0,0,0,0,0,0,0,0,0,0,0,0,0,0,0,0,0,0,0,0,0,0,0,0,0,0,0,0,0,0,0,0,0,0,0,0,0],\"type\":\"bar\"},{\"name\":\"Western\",\"x\":[6.4,6.6,6.2,6.5,6.7,6.1,6.8,6.3,7.0,6.9,7.3,7.2,6.0,5.8,5.9,7.1,5.6,5.7,7.4,7.5,5.5,5.4,7.6,7.7,5.3,7.8,5.1,5.2,8.0,5.0,4.8,4.9,8.1,7.9,4.7,4.6,4.5,8.2,4.3,8.3,4.4,4.2,3.7,8.4,4.0,3.8,4.1,3.9,8.5,8.6,3.4,3.5,3.2,3.0,8.7,2.5,8.8,3.3,3.6,2.9,3.1,2.7,8.9,2.2,1.9,2.1,2.8,2.4,2.6,2.3,9.0,9.3],\"y\":[1,0,0,0,0,0,0,0,0,0,0,0,0,0,0,0,0,0,0,0,1,0,0,0,0,0,0,0,0,0,0,0,0,0,0,0,0,0,0,0,0,0,0,0,0,0,0,0,0,0,0,0,0,0,0,0,0,0,0,0,0,0,0,0,0,0,0,0,0,0,0,0],\"type\":\"bar\"},{\"name\":\"Sci-Fi\",\"x\":[6.4,6.6,6.2,6.5,6.7,6.1,6.8,6.3,7.0,6.9,7.3,7.2,6.0,5.8,5.9,7.1,5.6,5.7,7.4,7.5,5.5,5.4,7.6,7.7,5.3,7.8,5.1,5.2,8.0,5.0,4.8,4.9,8.1,7.9,4.7,4.6,4.5,8.2,4.3,8.3,4.4,4.2,3.7,8.4,4.0,3.8,4.1,3.9,8.5,8.6,3.4,3.5,3.2,3.0,8.7,2.5,8.8,3.3,3.6,2.9,3.1,2.7,8.9,2.2,1.9,2.1,2.8,2.4,2.6,2.3,9.0,9.3],\"y\":[1,0,2,0,0,0,0,0,0,0,0,0,1,0,1,0,0,0,1,0,0,0,0,0,0,0,0,0,0,0,0,0,0,0,0,0,0,0,0,0,0,0,0,0,0,0,0,0,0,0,0,0,0,0,0,0,0,0,0,0,0,0,0,0,0,0,0,0,0,0,0,0],\"type\":\"bar\"},{\"name\":\"Romance\",\"x\":[6.4,6.6,6.2,6.5,6.7,6.1,6.8,6.3,7.0,6.9,7.3,7.2,6.0,5.8,5.9,7.1,5.6,5.7,7.4,7.5,5.5,5.4,7.6,7.7,5.3,7.8,5.1,5.2,8.0,5.0,4.8,4.9,8.1,7.9,4.7,4.6,4.5,8.2,4.3,8.3,4.4,4.2,3.7,8.4,4.0,3.8,4.1,3.9,8.5,8.6,3.4,3.5,3.2,3.0,8.7,2.5,8.8,3.3,3.6,2.9,3.1,2.7,8.9,2.2,1.9,2.1,2.8,2.4,2.6,2.3,9.0,9.3],\"y\":[0,0,0,0,0,0,0,0,3,0,0,0,1,0,1,0,0,0,0,0,0,0,0,0,0,0,0,0,0,0,0,0,0,0,0,0,0,0,0,0,0,0,0,0,0,0,0,0,0,0,0,0,0,0,0,0,0,0,0,0,0,0,0,0,0,0,0,0,0,0,0,0],\"type\":\"bar\"},{\"name\":\"Thriller\",\"x\":[6.4,6.6,6.2,6.5,6.7,6.1,6.8,6.3,7.0,6.9,7.3,7.2,6.0,5.8,5.9,7.1,5.6,5.7,7.4,7.5,5.5,5.4,7.6,7.7,5.3,7.8,5.1,5.2,8.0,5.0,4.8,4.9,8.1,7.9,4.7,4.6,4.5,8.2,4.3,8.3,4.4,4.2,3.7,8.4,4.0,3.8,4.1,3.9,8.5,8.6,3.4,3.5,3.2,3.0,8.7,2.5,8.8,3.3,3.6,2.9,3.1,2.7,8.9,2.2,1.9,2.1,2.8,2.4,2.6,2.3,9.0,9.3],\"y\":[1,1,0,1,0,1,0,0,0,0,0,0,0,0,0,0,2,0,0,0,0,0,0,0,0,0,0,0,0,0,0,0,0,0,1,0,0,0,0,0,0,0,0,0,0,0,0,0,0,0,0,0,0,0,0,0,0,0,0,0,0,0,0,0,0,0,0,0,0,0,0,0],\"type\":\"bar\"},{\"name\":\"Mystery\",\"x\":[6.4,6.6,6.2,6.5,6.7,6.1,6.8,6.3,7.0,6.9,7.3,7.2,6.0,5.8,5.9,7.1,5.6,5.7,7.4,7.5,5.5,5.4,7.6,7.7,5.3,7.8,5.1,5.2,8.0,5.0,4.8,4.9,8.1,7.9,4.7,4.6,4.5,8.2,4.3,8.3,4.4,4.2,3.7,8.4,4.0,3.8,4.1,3.9,8.5,8.6,3.4,3.5,3.2,3.0,8.7,2.5,8.8,3.3,3.6,2.9,3.1,2.7,8.9,2.2,1.9,2.1,2.8,2.4,2.6,2.3,9.0,9.3],\"y\":[0,1,1,0,1,0,0,1,1,1,1,0,0,0,1,1,0,1,0,0,0,0,1,0,1,0,0,1,1,1,0,0,0,0,0,0,0,1,0,0,0,0,0,1,0,0,0,0,0,0,0,0,0,0,0,0,0,0,0,0,0,0,0,0,0,0,0,0,0,0,0,0],\"type\":\"bar\"}],                        {\"template\":{\"data\":{\"bar\":[{\"error_x\":{\"color\":\"#f2f5fa\"},\"error_y\":{\"color\":\"#f2f5fa\"},\"marker\":{\"line\":{\"color\":\"rgb(17,17,17)\",\"width\":0.5},\"pattern\":{\"fillmode\":\"overlay\",\"size\":10,\"solidity\":0.2}},\"type\":\"bar\"}],\"barpolar\":[{\"marker\":{\"line\":{\"color\":\"rgb(17,17,17)\",\"width\":0.5},\"pattern\":{\"fillmode\":\"overlay\",\"size\":10,\"solidity\":0.2}},\"type\":\"barpolar\"}],\"carpet\":[{\"aaxis\":{\"endlinecolor\":\"#A2B1C6\",\"gridcolor\":\"#506784\",\"linecolor\":\"#506784\",\"minorgridcolor\":\"#506784\",\"startlinecolor\":\"#A2B1C6\"},\"baxis\":{\"endlinecolor\":\"#A2B1C6\",\"gridcolor\":\"#506784\",\"linecolor\":\"#506784\",\"minorgridcolor\":\"#506784\",\"startlinecolor\":\"#A2B1C6\"},\"type\":\"carpet\"}],\"choropleth\":[{\"colorbar\":{\"outlinewidth\":0,\"ticks\":\"\"},\"type\":\"choropleth\"}],\"contour\":[{\"colorbar\":{\"outlinewidth\":0,\"ticks\":\"\"},\"colorscale\":[[0.0,\"#0d0887\"],[0.1111111111111111,\"#46039f\"],[0.2222222222222222,\"#7201a8\"],[0.3333333333333333,\"#9c179e\"],[0.4444444444444444,\"#bd3786\"],[0.5555555555555556,\"#d8576b\"],[0.6666666666666666,\"#ed7953\"],[0.7777777777777778,\"#fb9f3a\"],[0.8888888888888888,\"#fdca26\"],[1.0,\"#f0f921\"]],\"type\":\"contour\"}],\"contourcarpet\":[{\"colorbar\":{\"outlinewidth\":0,\"ticks\":\"\"},\"type\":\"contourcarpet\"}],\"heatmap\":[{\"colorbar\":{\"outlinewidth\":0,\"ticks\":\"\"},\"colorscale\":[[0.0,\"#0d0887\"],[0.1111111111111111,\"#46039f\"],[0.2222222222222222,\"#7201a8\"],[0.3333333333333333,\"#9c179e\"],[0.4444444444444444,\"#bd3786\"],[0.5555555555555556,\"#d8576b\"],[0.6666666666666666,\"#ed7953\"],[0.7777777777777778,\"#fb9f3a\"],[0.8888888888888888,\"#fdca26\"],[1.0,\"#f0f921\"]],\"type\":\"heatmap\"}],\"heatmapgl\":[{\"colorbar\":{\"outlinewidth\":0,\"ticks\":\"\"},\"colorscale\":[[0.0,\"#0d0887\"],[0.1111111111111111,\"#46039f\"],[0.2222222222222222,\"#7201a8\"],[0.3333333333333333,\"#9c179e\"],[0.4444444444444444,\"#bd3786\"],[0.5555555555555556,\"#d8576b\"],[0.6666666666666666,\"#ed7953\"],[0.7777777777777778,\"#fb9f3a\"],[0.8888888888888888,\"#fdca26\"],[1.0,\"#f0f921\"]],\"type\":\"heatmapgl\"}],\"histogram\":[{\"marker\":{\"pattern\":{\"fillmode\":\"overlay\",\"size\":10,\"solidity\":0.2}},\"type\":\"histogram\"}],\"histogram2d\":[{\"colorbar\":{\"outlinewidth\":0,\"ticks\":\"\"},\"colorscale\":[[0.0,\"#0d0887\"],[0.1111111111111111,\"#46039f\"],[0.2222222222222222,\"#7201a8\"],[0.3333333333333333,\"#9c179e\"],[0.4444444444444444,\"#bd3786\"],[0.5555555555555556,\"#d8576b\"],[0.6666666666666666,\"#ed7953\"],[0.7777777777777778,\"#fb9f3a\"],[0.8888888888888888,\"#fdca26\"],[1.0,\"#f0f921\"]],\"type\":\"histogram2d\"}],\"histogram2dcontour\":[{\"colorbar\":{\"outlinewidth\":0,\"ticks\":\"\"},\"colorscale\":[[0.0,\"#0d0887\"],[0.1111111111111111,\"#46039f\"],[0.2222222222222222,\"#7201a8\"],[0.3333333333333333,\"#9c179e\"],[0.4444444444444444,\"#bd3786\"],[0.5555555555555556,\"#d8576b\"],[0.6666666666666666,\"#ed7953\"],[0.7777777777777778,\"#fb9f3a\"],[0.8888888888888888,\"#fdca26\"],[1.0,\"#f0f921\"]],\"type\":\"histogram2dcontour\"}],\"mesh3d\":[{\"colorbar\":{\"outlinewidth\":0,\"ticks\":\"\"},\"type\":\"mesh3d\"}],\"parcoords\":[{\"line\":{\"colorbar\":{\"outlinewidth\":0,\"ticks\":\"\"}},\"type\":\"parcoords\"}],\"pie\":[{\"automargin\":true,\"type\":\"pie\"}],\"scatter\":[{\"marker\":{\"line\":{\"color\":\"#283442\"}},\"type\":\"scatter\"}],\"scatter3d\":[{\"line\":{\"colorbar\":{\"outlinewidth\":0,\"ticks\":\"\"}},\"marker\":{\"colorbar\":{\"outlinewidth\":0,\"ticks\":\"\"}},\"type\":\"scatter3d\"}],\"scattercarpet\":[{\"marker\":{\"colorbar\":{\"outlinewidth\":0,\"ticks\":\"\"}},\"type\":\"scattercarpet\"}],\"scattergeo\":[{\"marker\":{\"colorbar\":{\"outlinewidth\":0,\"ticks\":\"\"}},\"type\":\"scattergeo\"}],\"scattergl\":[{\"marker\":{\"line\":{\"color\":\"#283442\"}},\"type\":\"scattergl\"}],\"scattermapbox\":[{\"marker\":{\"colorbar\":{\"outlinewidth\":0,\"ticks\":\"\"}},\"type\":\"scattermapbox\"}],\"scatterpolar\":[{\"marker\":{\"colorbar\":{\"outlinewidth\":0,\"ticks\":\"\"}},\"type\":\"scatterpolar\"}],\"scatterpolargl\":[{\"marker\":{\"colorbar\":{\"outlinewidth\":0,\"ticks\":\"\"}},\"type\":\"scatterpolargl\"}],\"scatterternary\":[{\"marker\":{\"colorbar\":{\"outlinewidth\":0,\"ticks\":\"\"}},\"type\":\"scatterternary\"}],\"surface\":[{\"colorbar\":{\"outlinewidth\":0,\"ticks\":\"\"},\"colorscale\":[[0.0,\"#0d0887\"],[0.1111111111111111,\"#46039f\"],[0.2222222222222222,\"#7201a8\"],[0.3333333333333333,\"#9c179e\"],[0.4444444444444444,\"#bd3786\"],[0.5555555555555556,\"#d8576b\"],[0.6666666666666666,\"#ed7953\"],[0.7777777777777778,\"#fb9f3a\"],[0.8888888888888888,\"#fdca26\"],[1.0,\"#f0f921\"]],\"type\":\"surface\"}],\"table\":[{\"cells\":{\"fill\":{\"color\":\"#506784\"},\"line\":{\"color\":\"rgb(17,17,17)\"}},\"header\":{\"fill\":{\"color\":\"#2a3f5f\"},\"line\":{\"color\":\"rgb(17,17,17)\"}},\"type\":\"table\"}]},\"layout\":{\"annotationdefaults\":{\"arrowcolor\":\"#f2f5fa\",\"arrowhead\":0,\"arrowwidth\":1},\"autotypenumbers\":\"strict\",\"coloraxis\":{\"colorbar\":{\"outlinewidth\":0,\"ticks\":\"\"}},\"colorscale\":{\"diverging\":[[0,\"#8e0152\"],[0.1,\"#c51b7d\"],[0.2,\"#de77ae\"],[0.3,\"#f1b6da\"],[0.4,\"#fde0ef\"],[0.5,\"#f7f7f7\"],[0.6,\"#e6f5d0\"],[0.7,\"#b8e186\"],[0.8,\"#7fbc41\"],[0.9,\"#4d9221\"],[1,\"#276419\"]],\"sequential\":[[0.0,\"#0d0887\"],[0.1111111111111111,\"#46039f\"],[0.2222222222222222,\"#7201a8\"],[0.3333333333333333,\"#9c179e\"],[0.4444444444444444,\"#bd3786\"],[0.5555555555555556,\"#d8576b\"],[0.6666666666666666,\"#ed7953\"],[0.7777777777777778,\"#fb9f3a\"],[0.8888888888888888,\"#fdca26\"],[1.0,\"#f0f921\"]],\"sequentialminus\":[[0.0,\"#0d0887\"],[0.1111111111111111,\"#46039f\"],[0.2222222222222222,\"#7201a8\"],[0.3333333333333333,\"#9c179e\"],[0.4444444444444444,\"#bd3786\"],[0.5555555555555556,\"#d8576b\"],[0.6666666666666666,\"#ed7953\"],[0.7777777777777778,\"#fb9f3a\"],[0.8888888888888888,\"#fdca26\"],[1.0,\"#f0f921\"]]},\"colorway\":[\"#636efa\",\"#EF553B\",\"#00cc96\",\"#ab63fa\",\"#FFA15A\",\"#19d3f3\",\"#FF6692\",\"#B6E880\",\"#FF97FF\",\"#FECB52\"],\"font\":{\"color\":\"#f2f5fa\"},\"geo\":{\"bgcolor\":\"rgb(17,17,17)\",\"lakecolor\":\"rgb(17,17,17)\",\"landcolor\":\"rgb(17,17,17)\",\"showlakes\":true,\"showland\":true,\"subunitcolor\":\"#506784\"},\"hoverlabel\":{\"align\":\"left\"},\"hovermode\":\"closest\",\"mapbox\":{\"style\":\"dark\"},\"paper_bgcolor\":\"rgb(17,17,17)\",\"plot_bgcolor\":\"rgb(17,17,17)\",\"polar\":{\"angularaxis\":{\"gridcolor\":\"#506784\",\"linecolor\":\"#506784\",\"ticks\":\"\"},\"bgcolor\":\"rgb(17,17,17)\",\"radialaxis\":{\"gridcolor\":\"#506784\",\"linecolor\":\"#506784\",\"ticks\":\"\"}},\"scene\":{\"xaxis\":{\"backgroundcolor\":\"rgb(17,17,17)\",\"gridcolor\":\"#506784\",\"gridwidth\":2,\"linecolor\":\"#506784\",\"showbackground\":true,\"ticks\":\"\",\"zerolinecolor\":\"#C8D4E3\"},\"yaxis\":{\"backgroundcolor\":\"rgb(17,17,17)\",\"gridcolor\":\"#506784\",\"gridwidth\":2,\"linecolor\":\"#506784\",\"showbackground\":true,\"ticks\":\"\",\"zerolinecolor\":\"#C8D4E3\"},\"zaxis\":{\"backgroundcolor\":\"rgb(17,17,17)\",\"gridcolor\":\"#506784\",\"gridwidth\":2,\"linecolor\":\"#506784\",\"showbackground\":true,\"ticks\":\"\",\"zerolinecolor\":\"#C8D4E3\"}},\"shapedefaults\":{\"line\":{\"color\":\"#f2f5fa\"}},\"sliderdefaults\":{\"bgcolor\":\"#C8D4E3\",\"bordercolor\":\"rgb(17,17,17)\",\"borderwidth\":1,\"tickwidth\":0},\"ternary\":{\"aaxis\":{\"gridcolor\":\"#506784\",\"linecolor\":\"#506784\",\"ticks\":\"\"},\"baxis\":{\"gridcolor\":\"#506784\",\"linecolor\":\"#506784\",\"ticks\":\"\"},\"bgcolor\":\"rgb(17,17,17)\",\"caxis\":{\"gridcolor\":\"#506784\",\"linecolor\":\"#506784\",\"ticks\":\"\"}},\"title\":{\"x\":0.05},\"updatemenudefaults\":{\"bgcolor\":\"#506784\",\"borderwidth\":0},\"xaxis\":{\"automargin\":true,\"gridcolor\":\"#283442\",\"linecolor\":\"#506784\",\"ticks\":\"\",\"title\":{\"standoff\":15},\"zerolinecolor\":\"#283442\",\"zerolinewidth\":2},\"yaxis\":{\"automargin\":true,\"gridcolor\":\"#283442\",\"linecolor\":\"#506784\",\"ticks\":\"\",\"title\":{\"standoff\":15},\"zerolinecolor\":\"#283442\",\"zerolinewidth\":2}}},\"barmode\":\"stack\"},                        {\"responsive\": true}                    ).then(function(){\n",
              "                            \n",
              "var gd = document.getElementById('a1a68858-48be-4c98-97bd-0bcbd930d4b5');\n",
              "var x = new MutationObserver(function (mutations, observer) {{\n",
              "        var display = window.getComputedStyle(gd).display;\n",
              "        if (!display || display === 'none') {{\n",
              "            console.log([gd, 'removed!']);\n",
              "            Plotly.purge(gd);\n",
              "            observer.disconnect();\n",
              "        }}\n",
              "}});\n",
              "\n",
              "// Listen for the removal of the full notebook cells\n",
              "var notebookContainer = gd.closest('#notebook-container');\n",
              "if (notebookContainer) {{\n",
              "    x.observe(notebookContainer, {childList: true});\n",
              "}}\n",
              "\n",
              "// Listen for the clearing of the current output cell\n",
              "var outputEl = gd.closest('.output');\n",
              "if (outputEl) {{\n",
              "    x.observe(outputEl, {childList: true});\n",
              "}}\n",
              "\n",
              "                        })                };                            </script>        </div>\n",
              "</body>\n",
              "</html>"
            ]
          },
          "metadata": {},
          "output_type": "display_data"
        }
      ],
      "source": [
        "order = pd.DataFrame(df.groupby('score')['count'].sum().sort_values(ascending=False).reset_index())\n",
        "rating_order = list(order['score'])\n",
        "mf = df.groupby('genre')['score'].value_counts().unstack().sort_index().fillna(0).astype(int)[rating_order]\n",
        "data = []\n",
        "for i in genres:\n",
        "    genre = mf.loc[i]\n",
        "    data.append(go.Bar(x=genre.index, y=genre, name=i))\n",
        "\n",
        "fig = go.Figure(data=data)\n",
        "fig.update_layout(barmode='stack')\n"
      ]
    },
    {
      "cell_type": "code",
      "execution_count": null,
      "metadata": {
        "id": "0vI7vdxTWJQE"
      },
      "outputs": [],
      "source": [
        "#start map graph \n",
        "input_countries = df['country'].unique()\n",
        "\n",
        "countries = {}\n",
        "for country in pycountry.countries:\n",
        "    countries[country.name] = country.alpha_3\n",
        "\n",
        "df['country_code'] = [countries.get(country, 'Unknown code') for country in df['country']]\n",
        "\n",
        "fig_map = px.choropleth(df, color='budget', locations='country_code', hover_name='country')"
      ]
    },
    {
      "cell_type": "code",
      "execution_count": null,
      "metadata": {
        "colab": {
          "base_uri": "https://localhost:8080/"
        },
        "id": "vCal4_4YY9je",
        "outputId": "a39c023b-cefc-4695-a563-55f4c29e869c"
      },
      "outputs": [
        {
          "name": "stdout",
          "output_type": "stream",
          "text": [
            "Requirement already satisfied: wordcloud in /usr/local/lib/python3.7/dist-packages (1.5.0)\n",
            "Requirement already satisfied: pillow in /usr/local/lib/python3.7/dist-packages (from wordcloud) (7.1.2)\n",
            "Requirement already satisfied: numpy>=1.6.1 in /usr/local/lib/python3.7/dist-packages (from wordcloud) (1.21.6)\n"
          ]
        }
      ],
      "source": [
        "pip install wordcloud"
      ]
    },
    {
      "cell_type": "code",
      "execution_count": null,
      "metadata": {
        "colab": {
          "base_uri": "https://localhost:8080/",
          "height": 575
        },
        "id": "DubHYTfqY90l",
        "outputId": "43c6e178-ab9d-4aad-abdf-e4f2da851258"
      },
      "outputs": [
        {
          "data": {
            "image/png": "[encoded data removed]",
            "text/plain": [
              "<Figure size 720x720 with 1 Axes>"
            ]
          },
          "metadata": {},
          "output_type": "display_data"
        }
      ],
      "source": [
        "from wordcloud import WordCloud\n",
        "\n",
        "text = str(list(df['genre'])).replace(',', '').replace('[', '').replace(\"'\", '').replace(']', '')\n",
        "\n",
        "plt.rcParams['figure.figsize'] = (10, 10)\n",
        "wordcloud = WordCloud(background_color = 'black', width = 1200,  height = 1200, max_words = 121).generate(text)\n",
        "plt.imshow(wordcloud)\n",
        "plt.axis('off')\n",
        "plt.show()"
      ]
    },
    {
      "cell_type": "code",
      "execution_count": null,
      "metadata": {
        "colab": {
          "background_save": true,
          "base_uri": "https://localhost:8080/"
        },
        "id": "CzRF7P_2Y-Dx",
        "outputId": "497c02e4-77d1-49f6-b6b6-11c57dc959bc"
      },
      "outputs": [
        {
          "name": "stdout",
          "output_type": "stream",
          "text": [
            "Dash is running on http://127.0.0.1:8050/\n",
            "\n",
            " * Serving Flask app \"__main__\" (lazy loading)\n",
            " * Environment: production\n",
            "\u001b[31m   WARNING: This is a development server. Do not use it in a production deployment.\u001b[0m\n",
            "\u001b[2m   Use a production WSGI server instead.\u001b[0m\n",
            " * Debug mode: off\n"
          ]
        },
        {
          "name": "stderr",
          "output_type": "stream",
          "text": [
            " * Running on http://127.0.0.1:8050/ (Press CTRL+C to quit)\n"
          ]
        }
      ],
      "source": [
        "\n",
        "app.layout = html.Div([\n",
        "    # Title Dashboard\n",
        "    html.H1('Movie World DashBoard',  \n",
        "            style = {'color':'White','fontsize':40,'textAlign':'center','border-width': 1, 'border': 'solid'}),\n",
        "    \n",
        "    #  First div contains two main parts , the first for a line chart and the other for the big numbers\n",
        "    html.Div([\n",
        "        html.Div([\n",
        "            html.H3(\"WMDB Score Per Genre\",\n",
        "            style = {'color':'white','fontsize':20,'textAlign':'center','border-width': 1, 'border': 'solid', 'backgroundColor': '#916873'}),\n",
        "            dcc.Graph(id='barChart', figure=fig)\n",
        "            ], className='six columns'),\n",
        "\n",
        "        # div for pie chart\n",
        "    html.Div([\n",
        "    dcc.Dropdown(\n",
        "        id='names', \n",
        "        value='genre', \n",
        "        options=[{'value': x, 'label': x} \n",
        "                 for x in ['genre', 'rating']],\n",
        "        clearable=False,\n",
        "        style={'color': '#386CB0', \"text-align\": \"center\",'width':'50%'}\n",
        "    ),\n",
        "    dcc.Dropdown(\n",
        "        id='values', \n",
        "        value='budget', \n",
        "        options=[{'value': x, 'label': x} \n",
        "                 for x in ['budget', 'score', 'runtime', 'gross', 'votes']],\n",
        "        clearable=False\n",
        "        ,\n",
        "        style={'color': '#386CB0', \"text-align\": \"center\",'width': '50%'}\n",
        "    ),\n",
        "    dcc.Graph(id=\"pie-chart\"),\n",
        "    ], className='five columns'),\n",
        "        \n",
        "    ]),\n",
        "\n",
        "    #map\n",
        "   html.Div([\n",
        "            html.H3(\"Countries Budget for Movies World\",\n",
        "            style = {'color':'white','fontsize':20,'textAlign':'center','border-width': 1, 'border': 'solid', 'backgroundColor': '#916873'}),\n",
        "            dcc.Graph(id='mapChart', figure=fig_map, style={'margin-left' : '110px'})\n",
        "            ], className='nine columns')\n",
        "            ],style={'backgroundColor':'#916873'})\n",
        "#start pie chart\n",
        "@app.callback(\n",
        "    Output(\"pie-chart\", \"figure\"), \n",
        "    [Input(\"names\", \"value\"), \n",
        "     Input(\"values\", \"value\")])\n",
        "def generate_chart(names, values):\n",
        "    if names == None or values == None:\n",
        "        fig = px.pie(df, values='budget', names='genre')\n",
        "    \n",
        "    else:\n",
        "        fig = px.pie(df, values=values, names=names)\n",
        "\n",
        "    return fig\n",
        "\n",
        "#end pie chart\n",
        "app.run_server()\n"
      ]
    },
    {
      "cell_type": "code",
      "execution_count": null,
      "metadata": {
        "id": "ofqJm3tPY-Ou"
      },
      "outputs": [],
      "source": [
        ""
      ]
    }
  ],
  "metadata": {
    "colab": {
      "collapsed_sections": [],
      "name": "movie_vis.ipynb",
      "provenance": []
    },
    "kernelspec": {
      "display_name": "Python 3",
      "name": "python3"
    },
    "language_info": {
      "name": "python"
    }
  },
  "nbformat": 4,
  "nbformat_minor": 0
}